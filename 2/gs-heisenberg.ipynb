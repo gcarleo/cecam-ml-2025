{
  "cells": [
    {
      "cell_type": "markdown",
      "metadata": {
        "id": "view-in-github",
        "colab_type": "text"
      },
      "source": [
        "<a href=\"https://colab.research.google.com/github/gcarleo/cecam-ml-2025/blob/main/2/gs-heisenberg.ipynb\" target=\"_parent\"><img src=\"https://colab.research.google.com/assets/colab-badge.svg\" alt=\"Open In Colab\"/></a>"
      ]
    },
    {
      "cell_type": "markdown",
      "metadata": {
        "id": "WU-_Go9psWPW"
      },
      "source": [
        "# Ground-State: Heisenberg model\n",
        "\n",
        "Author: Giuseppe Carleo and Filippo Vicentini (EPFL-CQSL)\n",
        "\n",
        "The goal of this tutorial is to review various neural network architectures available in NetKet, in order to learn the ground-state of a paradigmatic spin model: the spin-$1/2$ Heisenberg antiferromagnetic chain.\n",
        "\n",
        "The Hamiltonian we will consider for this tutorial is the following\n",
        "\n",
        "$$ H = \\sum_{i=1}^{L} \\vec{\\sigma}_{i} \\cdot \\vec{\\sigma}_{i+1}.$$\n",
        "\n",
        "$L$ is the length of the chain, and we will use both open and periodic boundary conditions. $\\vec{\\sigma}=(\\sigma^x,\\sigma^y,\\sigma^z)$ denotes  the vector of Pauli matrices. Please note that there is a factor of $2$ between Pauli-matrices and spin-1/2 operators (thus a factor of $4$ in $H$).\n",
        "\n",
        "We will consider in this tutorial 5 possible ways of determining the ground-state of this model."
      ]
    },
    {
      "cell_type": "markdown",
      "metadata": {
        "id": "N3OUWKotsWPX"
      },
      "source": [
        "## 0. Installing Netket\n",
        "\n",
        "If you are executing this notebook on Colab, you will need to install netket. You can do so by running the following cell:"
      ]
    },
    {
      "cell_type": "code",
      "execution_count": null,
      "metadata": {
        "id": "oh-hlxbNsWPY",
        "outputId": "54e20d63-2c22-4731-fd07-24135a326c65",
        "colab": {
          "base_uri": "https://localhost:8080/"
        }
      },
      "outputs": [
        {
          "output_type": "stream",
          "name": "stdout",
          "text": [
            "\u001b[?25l   \u001b[90m━━━━━━━━━━━━━━━━━━━━━━━━━━━━━━━━━━━━━━━━\u001b[0m \u001b[32m0.0/695.9 kB\u001b[0m \u001b[31m?\u001b[0m eta \u001b[36m-:--:--\u001b[0m\r\u001b[2K   \u001b[91m━━━━━━━━━━━━━━━━━━━━━━━━━━━━━━━━━━━━━━━\u001b[0m\u001b[90m╺\u001b[0m \u001b[32m686.1/695.9 kB\u001b[0m \u001b[31m28.0 MB/s\u001b[0m eta \u001b[36m0:00:01\u001b[0m\r\u001b[2K   \u001b[90m━━━━━━━━━━━━━━━━━━━━━━━━━━━━━━━━━━━━━━━━\u001b[0m \u001b[32m695.9/695.9 kB\u001b[0m \u001b[31m12.8 MB/s\u001b[0m eta \u001b[36m0:00:00\u001b[0m\n",
            "\u001b[2K   \u001b[90m━━━━━━━━━━━━━━━━━━━━━━━━━━━━━━━━━━━━━━━━\u001b[0m \u001b[32m177.2/177.2 kB\u001b[0m \u001b[31m9.4 MB/s\u001b[0m eta \u001b[36m0:00:00\u001b[0m\n",
            "\u001b[2K   \u001b[90m━━━━━━━━━━━━━━━━━━━━━━━━━━━━━━━━━━━━━━━━\u001b[0m \u001b[32m3.1/3.1 MB\u001b[0m \u001b[31m18.3 MB/s\u001b[0m eta \u001b[36m0:00:00\u001b[0m\n",
            "\u001b[2K   \u001b[90m━━━━━━━━━━━━━━━━━━━━━━━━━━━━━━━━━━━━━━━━\u001b[0m \u001b[32m42.6/42.6 kB\u001b[0m \u001b[31m1.9 MB/s\u001b[0m eta \u001b[36m0:00:00\u001b[0m\n",
            "\u001b[2K   \u001b[90m━━━━━━━━━━━━━━━━━━━━━━━━━━━━━━━━━━━━━━━━\u001b[0m \u001b[32m1.2/1.2 MB\u001b[0m \u001b[31m17.5 MB/s\u001b[0m eta \u001b[36m0:00:00\u001b[0m\n",
            "\u001b[2K   \u001b[90m━━━━━━━━━━━━━━━━━━━━━━━━━━━━━━━━━━━━━━━━\u001b[0m \u001b[32m55.4/55.4 kB\u001b[0m \u001b[31m2.9 MB/s\u001b[0m eta \u001b[36m0:00:00\u001b[0m\n",
            "\u001b[?25h"
          ]
        }
      ],
      "source": [
        "%pip install --quiet netket"
      ]
    },
    {
      "cell_type": "markdown",
      "metadata": {
        "id": "Rca7I3NPsWPZ"
      },
      "source": [
        "We also want make to sure that this notebook is running on the cpu.\n",
        "You can edit the field by changing \"cpu\" to \"gpu\" to make it run on the GPU if you want.\n",
        "But you'll need to use much larger systems to see a benefit in the runtime.\n",
        "For systems with less than 40 spins GPUs slow you down remarkably."
      ]
    },
    {
      "cell_type": "code",
      "execution_count": null,
      "metadata": {
        "id": "-1rDpGMUsWPZ"
      },
      "outputs": [],
      "source": [
        "import os\n",
        "os.environ[\"JAX_PLATFORM_NAME\"] = \"cpu\""
      ]
    },
    {
      "cell_type": "markdown",
      "metadata": {
        "id": "LbHYU4ADsWPZ"
      },
      "source": [
        "*After* having defined this environment variable, we can load netket and the various libraries that we will be using throughout the tutorial."
      ]
    },
    {
      "cell_type": "code",
      "execution_count": null,
      "metadata": {
        "id": "tJ0538aIsWPZ"
      },
      "outputs": [],
      "source": [
        "# Import netket library\n",
        "import netket as nk\n",
        "\n",
        "# Import Json, this will be needed to load log files\n",
        "import json\n",
        "\n",
        "# Helper libraries\n",
        "import numpy as np\n",
        "import matplotlib.pyplot as plt\n",
        "import time"
      ]
    },
    {
      "cell_type": "markdown",
      "metadata": {
        "id": "XEv_BYyesWPZ"
      },
      "source": [
        "## 1. Defining the Hamiltonian\n",
        "\n",
        "NetKet covers quite a few standard Hamiltonians and lattices, so let's use this to quickly define the antiferromagnetic Heisenberg chain.\n",
        "For the moment we assume $L=22$ and simply define a chain lattice in this way (using periodic boundary conditions for now)."
      ]
    },
    {
      "cell_type": "code",
      "execution_count": null,
      "metadata": {
        "id": "c_-miDeJsWPa"
      },
      "outputs": [],
      "source": [
        "# Define a 1d chain\n",
        "L = 22\n",
        "g = nk.graph.Hypercube(length=L, n_dim=1, pbc=True)"
      ]
    },
    {
      "cell_type": "markdown",
      "metadata": {
        "id": "y6AoWUtMsWPa"
      },
      "source": [
        "Next, we need to define the Hilbert space on this graph.\n",
        "We have here spin-half degrees of freedom, and as we know that the ground-state sits in the zero magnetization sector, we can already impose this as a constraint in the Hilbert space.\n",
        "This is not mandatory, but will nicely speeds things up in the following."
      ]
    },
    {
      "cell_type": "code",
      "execution_count": null,
      "metadata": {
        "id": "SGVXvahTsWPa"
      },
      "outputs": [],
      "source": [
        "# Define the Hilbert space based on this graph\n",
        "# We impose to have a fixed total magnetization of zero\n",
        "hi = nk.hilbert.Spin(s=0.5, total_sz=0, N=g.n_nodes)"
      ]
    },
    {
      "cell_type": "markdown",
      "metadata": {
        "id": "eSvg4massWPa"
      },
      "source": [
        "The final element of the triptych is of course the Hamiltonian acting in this Hilbert space, which in our case in already defined in NetKet.\n",
        "Note that the NetKet Hamiltonian uses Pauli Matrices (if you prefer to work with spin-$1/2$ operators, it's pretty trivial to define your own custom Hamiltonian, as covered in another tutorial)"
      ]
    },
    {
      "cell_type": "code",
      "execution_count": null,
      "metadata": {
        "id": "UKeaabO1sWPa"
      },
      "outputs": [],
      "source": [
        "# calling the Heisenberg Hamiltonian\n",
        "ha = nk.operator.Heisenberg(hilbert=hi, graph=g)"
      ]
    },
    {
      "cell_type": "markdown",
      "metadata": {
        "id": "nsuRHj61sWPa"
      },
      "source": [
        "## 2. Exact Diagonalization (as a testbed)\n",
        "\n",
        "Just as a matter of future comparison, let's compute the exact ground-state energy (since this is still possible for $L=22$ using brute-force exact diagonalization).\n",
        "NetKet provides wrappers to the Lanczos algorithm which we now use:"
      ]
    },
    {
      "cell_type": "code",
      "execution_count": null,
      "metadata": {
        "id": "ScmiXHqtsWPa",
        "outputId": "6840547a-be9f-4be0-c206-f2603a70f2bd"
      },
      "outputs": [
        {
          "name": "stdout",
          "output_type": "stream",
          "text": [
            "The exact ground-state energy is E0= -39.147522607062854\n"
          ]
        }
      ],
      "source": [
        "# compute the ground-state energy (here we only need the lowest energy, and do not need the eigenstate)\n",
        "evals = nk.exact.lanczos_ed(ha, compute_eigenvectors=False)\n",
        "exact_gs_energy = evals[0]\n",
        "print('The exact ground-state energy is E0=',exact_gs_energy)\n",
        "\n",
        "# Just in case you can't do this calculation, here is the result\n",
        "# exact_gs_energy = -39.14752260706246"
      ]
    },
    {
      "cell_type": "markdown",
      "metadata": {
        "id": "5m9-VkiusWPa"
      },
      "source": [
        "## 3. The Jastrow ansatz\n",
        "\n",
        "Let's start with a simple ansatz for the ground-state: the Jastrow Ansatz.\n",
        "\n",
        "$ \\log\\psi(\\sigma) = \\sum_i a_i \\sigma_i + \\sum_{i,j} \\sigma_i J_{i,j} \\sigma_j $\n",
        "\n",
        "To show how it's done, we write this simple ansatz as a `flax.nnx` module.\n",
        "We import this module and call it `nnx`, as it is customary in the Flax documentation.\n",
        "\n",
        "An NNX model subclasses `nnx.Module` and defines its parameters inside `__init__` using `nnx.Param`.\n",
        "\n",
        "As the module should work with batches of inputs (therefore the input will be a 2d matrix with shape `(N_inputs, N_sites)`, but we are lazy and find it easier to define the function for a single input $\\sigma$, a 1D vector of shape `(N_sites,)`.\n",
        "Therefore, we write a function called `evaluate_single`, which will evaluate a single 1D input, and use `jax.vmap` to make it work with 2D inputs as well.\n",
        "\n",
        "To learn more about jax.vmap, give a look at the jax documentation!"
      ]
    },
    {
      "cell_type": "code",
      "execution_count": 9,
      "metadata": {
        "id": "bnEFWVk9sWPb"
      },
      "outputs": [],
      "source": [
        "from flax import nnx\n",
        "import jax.numpy as jnp\n",
        "import jax\n",
        "\n",
        "class Jastrow(nnx.Module):\n",
        "    def __init__(self, N: int, *, rngs: nnx.Rngs):\n",
        "        k1, k2 = jax.random.split(rngs.params())\n",
        "        self.J = nnx.Param(0.01 * jax.random.normal(k1, (N, N),\n",
        "                                                    dtype=jnp.complex128))\n",
        "\n",
        "        self.v_bias = nnx.Param(0.01 * jax.random.normal(k2, (N, 1),\n",
        "                                                         dtype=jnp.complex128))\n",
        "\n",
        "    def __call__(self, x):\n",
        "        x = x.astype(jnp.complex128)              # keep the dtypes aligned\n",
        "        quad = jnp.einsum('...i,ij,...j->...', x, self.J, x)\n",
        "        lin  = jnp.squeeze(x @ self.v_bias, -1)   # (...,N) @ (N,1) → (...,1)\n",
        "        return quad + lin"
      ]
    },
    {
      "cell_type": "markdown",
      "metadata": {
        "id": "6Y0pPfA3sWPb"
      },
      "source": [
        "Now that the model is defined, we can instantiate it"
      ]
    },
    {
      "cell_type": "code",
      "execution_count": 10,
      "metadata": {
        "id": "8fyRskltsWPb",
        "outputId": "6b66c0b7-2076-4319-b87d-b78172248d5b",
        "colab": {
          "base_uri": "https://localhost:8080/"
        }
      },
      "outputs": [
        {
          "output_type": "stream",
          "name": "stdout",
          "text": [
            "\u001b[38;2;79;201;177mJastrow\u001b[0m\u001b[38;2;255;213;3m(\u001b[0m\u001b[38;2;105;105;105m # Param: 506 (8.1 KB)\u001b[0m\n",
            "  \u001b[38;2;156;220;254mJ\u001b[0m\u001b[38;2;212;212;212m=\u001b[0m\u001b[38;2;79;201;177mParam\u001b[0m\u001b[38;2;255;213;3m(\u001b[0m\u001b[38;2;105;105;105m # 484 (7.7 KB)\u001b[0m\n",
            "    \u001b[38;2;156;220;254mvalue\u001b[0m\u001b[38;2;212;212;212m=\u001b[0m\u001b[38;2;79;201;177mArray\u001b[0m\u001b[38;2;255;213;3m(\u001b[0m\u001b[38;2;156;220;254mshape\u001b[0m\u001b[38;2;212;212;212m=\u001b[0m\u001b[38;2;255;213;3m(\u001b[0m\u001b[38;2;182;207;169m22\u001b[0m, \u001b[38;2;182;207;169m22\u001b[0m\u001b[38;2;255;213;3m)\u001b[0m, \u001b[38;2;156;220;254mdtype\u001b[0m\u001b[38;2;212;212;212m=\u001b[0mdtype('complex128')\u001b[38;2;255;213;3m)\u001b[0m\n",
            "  \u001b[38;2;255;213;3m)\u001b[0m,\n",
            "  \u001b[38;2;156;220;254mv_bias\u001b[0m\u001b[38;2;212;212;212m=\u001b[0m\u001b[38;2;79;201;177mParam\u001b[0m\u001b[38;2;255;213;3m(\u001b[0m\u001b[38;2;105;105;105m # 22 (352 B)\u001b[0m\n",
            "    \u001b[38;2;156;220;254mvalue\u001b[0m\u001b[38;2;212;212;212m=\u001b[0m\u001b[38;2;79;201;177mArray\u001b[0m\u001b[38;2;255;213;3m(\u001b[0m\u001b[38;2;156;220;254mshape\u001b[0m\u001b[38;2;212;212;212m=\u001b[0m\u001b[38;2;255;213;3m(\u001b[0m\u001b[38;2;182;207;169m22\u001b[0m, \u001b[38;2;182;207;169m1\u001b[0m\u001b[38;2;255;213;3m)\u001b[0m, \u001b[38;2;156;220;254mdtype\u001b[0m\u001b[38;2;212;212;212m=\u001b[0mdtype('complex128')\u001b[38;2;255;213;3m)\u001b[0m\n",
            "  \u001b[38;2;255;213;3m)\u001b[0m\n",
            "\u001b[38;2;255;213;3m)\u001b[0m\n"
          ]
        }
      ],
      "source": [
        "ma = Jastrow(N=hi.size, rngs=nnx.Rngs(0))\n",
        "print(ma)"
      ]
    },
    {
      "cell_type": "code",
      "execution_count": 11,
      "metadata": {
        "id": "aHm9wGz-sWPb",
        "outputId": "ea9e4d4c-6bdf-440f-e15c-b642ecf62d41",
        "colab": {
          "referenced_widgets": [
            "4b09d8f242a44b699b5c4acfd50602b1",
            "97b668f8666e44f49350466e83711cd8",
            "0c008f2a73ef4b349f7ce764208ddb28",
            "03141cd8c1c540048b1b33a4ab90b17d",
            "ce3a4b40ab164aa6822e521e7a323fd4",
            "87e48eae577640168a9993f66002b315",
            "249772ab7bec4345bc720b10b512437f",
            "2c106bcd93e348829238a0fa23e30b37",
            "08d6a534c7b2475a849623ca9eb61554",
            "25ce97eeddd149f78a65290b2152d6bf",
            "e7074ce3e0794728bc8ed1a62ae98523"
          ],
          "base_uri": "https://localhost:8080/",
          "height": 103
        }
      },
      "outputs": [
        {
          "output_type": "display_data",
          "data": {
            "text/plain": [
              "  0%|          | 0/300 [00:00<?, ?it/s]"
            ],
            "application/vnd.jupyter.widget-view+json": {
              "version_major": 2,
              "version_minor": 0,
              "model_id": "4b09d8f242a44b699b5c4acfd50602b1"
            }
          },
          "metadata": {}
        },
        {
          "output_type": "stream",
          "name": "stdout",
          "text": [
            "### Jastrow calculation\n",
            "Has 506 parameters\n",
            "The Jastrow calculation took 56.2233350276947 seconds\n"
          ]
        }
      ],
      "source": [
        "# Build the sampler\n",
        "sa = nk.sampler.MetropolisExchange(hilbert=hi,graph=g)\n",
        "\n",
        "# Optimizer\n",
        "op = nk.optimizer.Sgd(learning_rate=0.01)\n",
        "\n",
        "# Stochastic Reconfiguration\n",
        "sr = nk.optimizer.SR(diag_shift=0.1, holomorphic=False)\n",
        "\n",
        "# The variational state\n",
        "vs = nk.vqs.MCState(sa, ma, n_samples=1008)\n",
        "\n",
        "# The ground-state optimization loop\n",
        "gs = nk.VMC(\n",
        "    hamiltonian=ha,\n",
        "    optimizer=op,\n",
        "    preconditioner=sr,\n",
        "    variational_state=vs)\n",
        "\n",
        "start = time.time()\n",
        "gs.run(300, out='Jastrow')\n",
        "end = time.time()\n",
        "\n",
        "print('### Jastrow calculation')\n",
        "print('Has',nk.jax.tree_size(vs.parameters),'parameters')\n",
        "print('The Jastrow calculation took',end-start,'seconds')"
      ]
    },
    {
      "cell_type": "code",
      "execution_count": null,
      "metadata": {
        "scrolled": true,
        "id": "SgQwNHcmsWPb",
        "outputId": "663e0938-d15d-4751-edd0-4684dd5dcf4f"
      },
      "outputs": [
        {
          "data": {
            "image/png": "[encoded data removed]",
            "text/plain": [
              "<Figure size 640x480 with 1 Axes>"
            ]
          },
          "metadata": {},
          "output_type": "display_data"
        }
      ],
      "source": [
        "# import the data from log file\n",
        "data_Jastrow=json.load(open(\"Jastrow.log\"))\n",
        "\n",
        "iters_Jastrow = data_Jastrow[\"Energy\"][\"iters\"]\n",
        "energy_Jastrow = data_Jastrow[\"Energy\"][\"Mean\"][\"real\"]\n",
        "\n",
        "fig, ax1 = plt.subplots()\n",
        "ax1.plot(iters_Jastrow, energy_Jastrow, color='C8', label='Energy (Jastrow)')\n",
        "ax1.set_ylabel('Energy')\n",
        "ax1.set_xlabel('Iteration')\n",
        "plt.axis([0,iters_Jastrow[-1],exact_gs_energy-0.1,exact_gs_energy+0.4])\n",
        "plt.axhline(y=exact_gs_energy, xmin=0,\n",
        "                xmax=iters_Jastrow[-1], linewidth=2, color='k', label='Exact')\n",
        "ax1.legend()\n",
        "plt.show()"
      ]
    },
    {
      "cell_type": "markdown",
      "metadata": {
        "id": "ex6wLNH1sWPb"
      },
      "source": [
        "Well that's not too bad for a simple ansatz. But we can do better, can't we?"
      ]
    },
    {
      "cell_type": "markdown",
      "metadata": {
        "id": "XP7IkaRtsWPb"
      },
      "source": [
        "## 3. Learning with a Restricted Boltzmann Machine (RBM)\n",
        "\n",
        "We will now consider another celebrated ansatz, the Restricted Boltzmann Machine (RBM). It simply consists of two layers: a visible one representing the $L$ spin 1/2 degrees of freedom, and an hidden one which contains a different number $M$ of hidden units. There are connections between all visible and hidden nodes. The ansatz is the [following](https://www.netket.org/docs/machine_RbmSpin/)\n",
        "\n",
        "$\\Psi_{\\rm RBM} (\\sigma_1^z,\\sigma_2^z, ..., \\sigma_L^z)  = \\exp ( \\sum_{i=1}^L a_i \\sigma_i^z ) \\prod_{i=1}^M \\cosh (b_i + \\sum_j W_{ij} \\sigma^z_j)$\n",
        "\n",
        "$a_i$ (resp. $b_i$) are the visible (resp. hidden) bias. Together with the weights $W_{ij}$, they are variational parameters that we (or rather NetKet) will optimize to minimize the energy. Netket gives you the control on the important parameters in this ansatz, such as $M$ and the fact that you want to use or not the biases. The full explanation is [here](https://www.netket.org/docs/machine_RbmSpin/).\n",
        "\n",
        "More conveniently (especially if you want to try another $L$ in this tutorial), let's define the hidden unit density $\\alpha = M / L$, and invoke the RBM ansatz in NetKet with as many hidden as visible units."
      ]
    },
    {
      "cell_type": "code",
      "execution_count": null,
      "metadata": {
        "id": "MTo8LUWzsWPc"
      },
      "outputs": [],
      "source": [
        "# RBM ansatz with alpha=1\n",
        "ma = nk.models.RBM(alpha=1)"
      ]
    },
    {
      "cell_type": "markdown",
      "metadata": {
        "id": "mML_qosnsWPc"
      },
      "source": [
        "And let us use the same sampler (Metropolis exchange) with some different random initial parameters, optimizer (stochastic gradient), and variational method (stochastic reconfiguration) as for the Jastrow ansatz, and let's run things!"
      ]
    },
    {
      "cell_type": "code",
      "execution_count": null,
      "metadata": {
        "id": "U50AxF6gsWPc",
        "outputId": "b54967f6-07af-4c22-ac33-faa48feebcf8",
        "colab": {
          "referenced_widgets": [
            "02aace6f04854394a5fbab3f746db6db"
          ]
        }
      },
      "outputs": [
        {
          "data": {
            "application/vnd.jupyter.widget-view+json": {
              "model_id": "02aace6f04854394a5fbab3f746db6db",
              "version_major": 2,
              "version_minor": 0
            },
            "text/plain": [
              "  0%|                                                                                                         …"
            ]
          },
          "metadata": {},
          "output_type": "display_data"
        },
        {
          "name": "stdout",
          "output_type": "stream",
          "text": [
            "### RBM calculation\n",
            "Has 528 parameters\n",
            "The RBM calculation took 22.284153938293457 seconds\n"
          ]
        }
      ],
      "source": [
        "# Build the sampler\n",
        "sa = nk.sampler.MetropolisExchange(hilbert=hi,graph=g)\n",
        "\n",
        "# Optimizer\n",
        "op = nk.optimizer.Sgd(learning_rate=0.05)\n",
        "\n",
        "# Stochastic Reconfiguration\n",
        "sr = nk.optimizer.SR(diag_shift=0.1)\n",
        "\n",
        "# The variational state\n",
        "vs = nk.vqs.MCState(sa, ma, n_samples=1008)\n",
        "\n",
        "# The ground-state optimization loop\n",
        "gs = nk.VMC(\n",
        "    hamiltonian=ha,\n",
        "    optimizer=op,\n",
        "    preconditioner=sr,\n",
        "    variational_state=vs)\n",
        "\n",
        "start = time.time()\n",
        "gs.run(out='RBM', n_iter=600)\n",
        "end = time.time()\n",
        "\n",
        "print('### RBM calculation')\n",
        "print('Has',vs.n_parameters,'parameters')\n",
        "print('The RBM calculation took',end-start,'seconds')"
      ]
    },
    {
      "cell_type": "code",
      "execution_count": null,
      "metadata": {
        "id": "kCxQJLf6sWPc",
        "outputId": "42779f76-0b39-4bf8-af3f-5537ba8d028b"
      },
      "outputs": [
        {
          "data": {
            "image/png": "[encoded data removed]",
            "text/plain": [
              "<Figure size 640x480 with 1 Axes>"
            ]
          },
          "metadata": {},
          "output_type": "display_data"
        }
      ],
      "source": [
        "# import the data from log file\n",
        "data=json.load(open(\"RBM.log\"))\n",
        "\n",
        "# Extract the relevant information\n",
        "iters_RBM = data[\"Energy\"][\"iters\"]\n",
        "energy_RBM = data[\"Energy\"][\"Mean\"]\n",
        "\n",
        "fig, ax1 = plt.subplots()\n",
        "ax1.plot(iters_Jastrow, energy_Jastrow, color='C8', label='Energy (Jastrow)')\n",
        "ax1.plot(iters_RBM, energy_RBM, color='red', label='Energy (RBM)')\n",
        "ax1.set_ylabel('Energy')\n",
        "ax1.set_xlabel('Iteration')\n",
        "plt.axis([0,iters_RBM[-1],exact_gs_energy-0.03,exact_gs_energy+0.2])\n",
        "plt.axhline(y=exact_gs_energy, xmin=0,\n",
        "                xmax=iters_RBM[-1], linewidth=2, color='k', label='Exact')\n",
        "ax1.legend()\n",
        "plt.show()"
      ]
    },
    {
      "cell_type": "markdown",
      "metadata": {
        "id": "f4MWwbOqsWPc"
      },
      "source": [
        "Note that this plot zooms closer to the exact ground-state energy. With 600 iterations, we start to see convergence and reach the ground-state energy within about one per thousand, this is already nice! But we are not totally there yet, and in particular the simpler (less parameters) Jastrow wave-function seems to perform better for this example. How can we improve things? As an exercise, try to increase the number of hidden units and/or the number of iterations. What is happening? You can also check out the influence of the learning rate.\n",
        "\n",
        "By playing with these parameters, you have hopefully arrived at an improved result, but likely at an increased CPU time cost. Let's do things differently, and take to our advantage the symmetries of the Hamiltonian in the neural network construction.\n"
      ]
    },
    {
      "cell_type": "markdown",
      "metadata": {
        "id": "mHJ16T4gsWPc"
      },
      "source": [
        "## 4. RBM again, this time with lattice symmetries\n",
        "\n",
        "Let's define a similar RBM machine, which takes into account that the model has translational symmetries. All sites are equivalent and thus many of the wave-functions coefficients are related by symmetry. We use the same exact hyperparameters as in the previous RBM calculation ($\\alpha=1$, same learning rate, and number of samples and iterations in the Variational Monte Carlo) and run now a symmetric RBM."
      ]
    },
    {
      "cell_type": "code",
      "execution_count": null,
      "metadata": {
        "id": "HiyH7B0ZsWPc",
        "outputId": "44455a3e-6321-4994-a328-898d26126a53",
        "colab": {
          "referenced_widgets": [
            "c79ce9da34814b95acef193747458511"
          ]
        }
      },
      "outputs": [
        {
          "data": {
            "application/vnd.jupyter.widget-view+json": {
              "model_id": "c79ce9da34814b95acef193747458511",
              "version_major": 2,
              "version_minor": 0
            },
            "text/plain": [
              "  0%|                                                                                                         …"
            ]
          },
          "metadata": {},
          "output_type": "display_data"
        },
        {
          "name": "stdout",
          "output_type": "stream",
          "text": [
            "### Symmetric RBM calculation\n",
            "Has 24 parameters\n",
            "The Symmetric RBM calculation took 10.63575291633606 seconds\n"
          ]
        }
      ],
      "source": [
        "## Symmetric RBM Spin Machine\n",
        "ma = nk.models.RBMSymm(symmetries=g.translation_group(), alpha=1)\n",
        "\n",
        "# Metropolis Exchange Sampling\n",
        "# Notice that this sampler exchanges two neighboring sites\n",
        "# thus preservers the total magnetization\n",
        "sa = nk.sampler.MetropolisExchange(hi, graph=g)\n",
        "\n",
        "# Optimizer\n",
        "op = nk.optimizer.Sgd(learning_rate=0.01)\n",
        "\n",
        "# Stochastic Reconfiguration\n",
        "sr = nk.optimizer.SR(diag_shift=0.1)\n",
        "\n",
        "# The variational state\n",
        "vs = nk.vqs.MCState(sa, ma, n_samples=1008)\n",
        "\n",
        "# The ground-state optimization loop\n",
        "gs = nk.VMC(\n",
        "    hamiltonian=ha,\n",
        "    optimizer=op,\n",
        "    preconditioner=sr,\n",
        "    variational_state=vs)\n",
        "\n",
        "start = time.time()\n",
        "gs.run(out='RBMSymmetric', n_iter=300)\n",
        "end = time.time()\n",
        "\n",
        "print('### Symmetric RBM calculation')\n",
        "print('Has',vs.n_parameters,'parameters')\n",
        "print('The Symmetric RBM calculation took',end-start,'seconds')"
      ]
    },
    {
      "cell_type": "markdown",
      "metadata": {
        "id": "mt4ZAjDlsWPc"
      },
      "source": [
        "The simulation was much faster, wasn't it? There were of course much less parameters to optimize. Now let's extract the results and plot them using a zoomed scale, and together with the previous results with the RBM."
      ]
    },
    {
      "cell_type": "code",
      "execution_count": null,
      "metadata": {
        "id": "ItJugHg1sWPc",
        "outputId": "84d19166-58d2-4cf8-e7dc-9fb3a08c926a"
      },
      "outputs": [
        {
          "data": {
            "image/png": "[encoded data removed]",
            "text/plain": [
              "<Figure size 640x480 with 1 Axes>"
            ]
          },
          "metadata": {},
          "output_type": "display_data"
        }
      ],
      "source": [
        "## import the data from log file\n",
        "data=json.load(open(\"RBMSymmetric.log\"))\n",
        "\n",
        "# Extract the relevant information\n",
        "iters_symRBM = data[\"Energy\"][\"iters\"]\n",
        "energy_symRBM = data[\"Energy\"][\"Mean\"]\n",
        "\n",
        "fig, ax1 = plt.subplots()\n",
        "ax1.plot(iters_Jastrow, energy_Jastrow, color='C8', label='Energy (Jastrow)')\n",
        "ax1.plot(iters_RBM, energy_RBM, color='red', label='Energy (RBM)')\n",
        "ax1.plot(iters_symRBM, energy_symRBM, color='blue', label='Energy (Symmetric RBM)')\n",
        "\n",
        "ax1.set_ylabel('Energy')\n",
        "ax1.set_xlabel('Iteration')\n",
        "if exact_gs_energy:\n",
        "    plt.axis([0,iters_symRBM[-1],exact_gs_energy-0.06,exact_gs_energy+0.12])\n",
        "    plt.axhline(y=exact_gs_energy, xmin=0,\n",
        "                    xmax=iters_RBM[-1], linewidth=2, color='k', label='Exact')\n",
        "ax1.legend()\n",
        "plt.show()"
      ]
    },
    {
      "cell_type": "markdown",
      "metadata": {
        "id": "eiY_CF8VsWPd"
      },
      "source": [
        "Not only the simulation was faster in terms of CPU time, but we are now reaching the ground-state in a much lower number of iterations! Imposing symmetries greatly helps, and NetKet allows to do this. Note that there is also a symmetric version of the Jastrow ansatz that we tested earlier in NetKet, which is called `JastrowSymm`. As an exercise, check it out. What you will find is that while it converges slightly faster in terms of iterations with respect to the non-symmetric Jastrow, it does not improve the estimate of the ground-state energy. We actually see that the symmetric RBM sets the standard very high."
      ]
    },
    {
      "cell_type": "markdown",
      "metadata": {
        "id": "b990-tfYsWPd"
      },
      "source": [
        "## 5. Learning with Feed Forward Neural Networks\n",
        "\n",
        "Now let's try a more complex network, namely a Feed Forward Neural Network (FFNN). There you will have more freedom to construct your own specific architecture. We'll try two different FFNN in this tutorial.\n",
        "\n",
        "The first one is a simple structure: the first layer takes as input L-dimensional input, applies a bias and outputs two times more data, just followed by a `Lncosh` activation layer. The final layer `SumOutput` is needed to obtain a single number for the wave-function coefficient associated to the input basis state.\n"
      ]
    },
    {
      "cell_type": "code",
      "execution_count": null,
      "metadata": {
        "id": "GWBk9k5esWPd",
        "outputId": "78efac7f-5a48-4980-fdcb-de3a03412df2",
        "colab": {
          "referenced_widgets": [
            "a9995d292dcb4ef1a4dee0171639c773"
          ]
        }
      },
      "outputs": [
        {
          "data": {
            "application/vnd.jupyter.widget-view+json": {
              "model_id": "a9995d292dcb4ef1a4dee0171639c773",
              "version_major": 2,
              "version_minor": 0
            },
            "text/plain": [
              "  0%|                                                                                                         …"
            ]
          },
          "metadata": {},
          "output_type": "display_data"
        },
        {
          "name": "stdout",
          "output_type": "stream",
          "text": [
            "### Feed Forward calculation\n",
            "Has 1012 parameters\n",
            "The Feed Forward calculation took 42.45775818824768 seconds\n"
          ]
        }
      ],
      "source": [
        "class Model(nnx.Module):\n",
        "\n",
        "    def __init__(self, N: int, *, rngs: nnx.Rngs):\n",
        "        self.linear = nnx.Linear(in_features=N, out_features=2 * N, dtype=jnp.complex128, rngs=rngs)\n",
        "\n",
        "    def __call__(self, x: jax.Array):\n",
        "        x = self.linear(x)\n",
        "        x = nk.nn.activation.log_cosh(x)\n",
        "        return jnp.sum(x, axis=-1)\n",
        "\n",
        "ffnn = Model(N=hi.size, rngs=nnx.Rngs(1))\n",
        "\n",
        "sa = nk.sampler.MetropolisExchange(hi, graph=g)\n",
        "\n",
        "# The variational state\n",
        "vs = nk.vqs.MCState(sa, ffnn, n_samples=1008)\n",
        "\n",
        "opt = nk.optimizer.Sgd(learning_rate=0.05)\n",
        "\n",
        "# Stochastic Reconfiguration\n",
        "sr = nk.optimizer.SR(diag_shift=0.1, holomorphic=False)\n",
        "\n",
        "# The ground-state optimization loop\n",
        "gs = nk.VMC(\n",
        "    hamiltonian=ha,\n",
        "    optimizer=op,\n",
        "    preconditioner=sr,\n",
        "    variational_state=vs)\n",
        "\n",
        "\n",
        "start = time.time()\n",
        "gs.run(out='FF', n_iter=300)\n",
        "end = time.time()\n",
        "\n",
        "print('### Feed Forward calculation')\n",
        "print('Has',vs.n_parameters,'parameters')\n",
        "print('The Feed Forward calculation took',end-start,'seconds')\n"
      ]
    },
    {
      "cell_type": "code",
      "execution_count": null,
      "metadata": {
        "id": "3NQXeJITsWPd"
      },
      "outputs": [],
      "source": [
        "# import the data from log file\n",
        "data=json.load(open(\"FF.log\"))\n",
        "\n",
        "# Extract the relevant information\n",
        "iters_FF = data[\"Energy\"][\"iters\"]\n",
        "energy_FF = data[\"Energy\"][\"Mean\"][\"real\"]\n",
        "\n",
        "fig, ax1 = plt.subplots()\n",
        "ax1.plot(iters_Jastrow, energy_Jastrow, color='C8',linestyle=\"None\", marker='d',label='Energy (Jastrow)')\n",
        "ax1.plot(iters_RBM, energy_RBM, color='red', marker='o',linestyle=\"None\",label='Energy (RBM)')\n",
        "ax1.plot(iters_symRBM, energy_symRBM, color='blue',linestyle=\"None\",marker='o',label='Energy (Symmetric RBM)')\n",
        "ax1.plot(iters_FF, energy_FF, color='orange', marker='s',linestyle=\"None\",label='Energy (Feed Forward, take 1)')\n",
        "ax1.legend(bbox_to_anchor=(1.05, 0.3))\n",
        "ax1.set_ylabel('Energy')\n",
        "ax1.set_xlabel('Iteration')\n",
        "plt.axis([0,iters_FF[-1],exact_gs_energy-0.02,exact_gs_energy+0.1])\n",
        "plt.axhline(y=exact_gs_energy, xmin=0,\n",
        "                xmax=iters_RBM[-1], linewidth=2, color='k', label='Exact')\n",
        "plt.show()"
      ]
    },
    {
      "cell_type": "markdown",
      "metadata": {
        "id": "9AIE7zKrsWPd"
      },
      "source": [
        "The results are clearly better than a simple (non-symmetrized RBB), and perform slightly better than the Jastrow ansatz. Let us increase the number of layers by adding a fully-connected layer with bias and  `Lncosh` activation (with $2L$ inputs and outputs) before the final `SumOutput` layer."
      ]
    },
    {
      "cell_type": "code",
      "execution_count": null,
      "metadata": {
        "id": "vHjeq3-TsWPd"
      },
      "outputs": [],
      "source": [
        "class Model2(nnx.Module):\n",
        "\n",
        "    def __init__(self, N: int, *, rngs: nnx.Rngs):\n",
        "        self.linear1 = nnx.Linear(in_features=N, out_features=2 * N, dtype=jnp.complex128, rngs=rngs)\n",
        "        self.linear2 = nnx.Linear(in_features=2 * N, out_features=N, dtype=jnp.complex128, rngs=rngs)\n",
        "\n",
        "    def __call__(self, x: jax.Array):\n",
        "        x = self.linear1(x)\n",
        "        x = nk.nn.activation.log_cosh(x)\n",
        "        x = self.linear2(x)\n",
        "        x = nk.nn.activation.log_cosh(x)\n",
        "        return jnp.sum(x, axis=-1)\n",
        "\n",
        "ffnn2 = Model2(N=hi.size, rngs=nnx.Rngs(1))\n",
        "\n",
        "# The variational state\n",
        "vs = nk.vqs.MCState(sa, ffnn, n_samples=1008)\n",
        "\n",
        "opt = nk.optimizer.Sgd(learning_rate=0.05)\n",
        "\n",
        "# Stochastic Reconfiguration\n",
        "sr = nk.optimizer.SR(diag_shift=0.1, holomorphic=False)\n",
        "\n",
        "# The ground-state optimization loop\n",
        "gs = nk.VMC(\n",
        "    hamiltonian=ha,\n",
        "    optimizer=op,\n",
        "    preconditioner=sr,\n",
        "    variational_state=vs)\n",
        "\n",
        "\n",
        "start = time.time()\n",
        "gs.run(out='FF2', n_iter=600)\n",
        "end = time.time()\n",
        "\n",
        "\n",
        "print('### Feed Forward (more layers) calculation')\n",
        "print('Has',vs.n_parameters,'parameters')\n",
        "print('The Feed Forward (more layers) calculation took',end-start,'seconds')\n"
      ]
    },
    {
      "cell_type": "code",
      "execution_count": null,
      "metadata": {
        "scrolled": true,
        "id": "QE6Ez43dsWPd"
      },
      "outputs": [],
      "source": [
        "# import the data from log file\n",
        "data=json.load(open(\"FF2.log\"))\n",
        "\n",
        "# Extract the relevant information\n",
        "iters_FF_morelayers = data[\"Energy\"][\"iters\"]\n",
        "energy_FF_morelayers = data[\"Energy\"][\"Mean\"][\"real\"]\n",
        "\n",
        "fig, ax1 = plt.subplots()\n",
        "#ax1.plot(iters_Jastrow, energy_Jastrow, color='C8',linestyle=\"None\", marker='d',label='Energy (Jastrow)')\n",
        "#ax1.plot(iters_RBM, energy_RBM, color='red', label='Energy (RBM)')\n",
        "#ax1.plot(iters_symRBM, energy_symRBM, color='blue',linestyle=\"None\",marker='o',label='Energy (Symmetric RBM)')\n",
        "ax1.plot(iters_FF, energy_FF, color='orange', marker='s',alpha=0.5,linestyle=\"None\",label='Energy (Feed Forward, take 1)')\n",
        "ax1.plot(iters_FF_morelayers, energy_FF_morelayers, color='green',marker='s',linestyle=\"None\", alpha=1,label='Energy (Feed Forward, more layers)')\n",
        "ax1.legend(bbox_to_anchor=(1.05, 0.5))\n",
        "ax1.set_ylabel('Energy')\n",
        "ax1.set_xlabel('Iteration')\n",
        "plt.axis([0,iters_RBM[-1],exact_gs_energy-0.02,exact_gs_energy+0.06])\n",
        "plt.axhline(y=exact_gs_energy, xmin=0,\n",
        "                xmax=iters_RBM[-1], linewidth=2, color='k', label='Exact')\n",
        "plt.show()"
      ]
    },
    {
      "cell_type": "markdown",
      "metadata": {
        "id": "5YYxiPdmsWPe"
      },
      "source": [
        "The results are even better, but at the price of an increase in computational time....\n",
        "\n",
        "Note that more complex structures, such as Convolutional Neural Networks (CNN), can also be used within Netket. However, for such 1d systems, they do not bring too much compared to the symmetric RBM (as a matter of fact, the symmetric RBM is a special type of a simple CNN. CNNs show their full strength for more complex systems, such as 2d quantum systems. Convolutional Neural Networks will be the topic of another tutorial in NetKet (and we'll make there the connection with the special case of the symmetric RBM).\n",
        "\n",
        "Finally let us conclude that another type of machine, Matrix Product States (MPS), is also available in NetKet. They do perform extremely well for 1d quantum systems. Since however they are a bit different, they will be presented in another tutorial."
      ]
    }
  ],
  "metadata": {
    "kernelspec": {
      "display_name": "Python 3 (ipykernel)",
      "language": "python",
      "name": "python3"
    },
    "language_info": {
      "codemirror_mode": {
        "name": "ipython",
        "version": 3
      },
      "file_extension": ".py",
      "mimetype": "text/x-python",
      "name": "python",
      "nbconvert_exporter": "python",
      "pygments_lexer": "ipython3",
      "version": "3.13.2"
    },
    "colab": {
      "provenance": [],
      "include_colab_link": true
    },
    "widgets": {
      "application/vnd.jupyter.widget-state+json": {
        "4b09d8f242a44b699b5c4acfd50602b1": {
          "model_module": "@jupyter-widgets/controls",
          "model_name": "HBoxModel",
          "model_module_version": "1.5.0",
          "state": {
            "_dom_classes": [],
            "_model_module": "@jupyter-widgets/controls",
            "_model_module_version": "1.5.0",
            "_model_name": "HBoxModel",
            "_view_count": null,
            "_view_module": "@jupyter-widgets/controls",
            "_view_module_version": "1.5.0",
            "_view_name": "HBoxView",
            "box_style": "",
            "children": [
              "IPY_MODEL_97b668f8666e44f49350466e83711cd8",
              "IPY_MODEL_0c008f2a73ef4b349f7ce764208ddb28",
              "IPY_MODEL_03141cd8c1c540048b1b33a4ab90b17d"
            ],
            "layout": "IPY_MODEL_ce3a4b40ab164aa6822e521e7a323fd4"
          }
        },
        "97b668f8666e44f49350466e83711cd8": {
          "model_module": "@jupyter-widgets/controls",
          "model_name": "HTMLModel",
          "model_module_version": "1.5.0",
          "state": {
            "_dom_classes": [],
            "_model_module": "@jupyter-widgets/controls",
            "_model_module_version": "1.5.0",
            "_model_name": "HTMLModel",
            "_view_count": null,
            "_view_module": "@jupyter-widgets/controls",
            "_view_module_version": "1.5.0",
            "_view_name": "HTMLView",
            "description": "",
            "description_tooltip": null,
            "layout": "IPY_MODEL_87e48eae577640168a9993f66002b315",
            "placeholder": "​",
            "style": "IPY_MODEL_249772ab7bec4345bc720b10b512437f",
            "value": "100%"
          }
        },
        "0c008f2a73ef4b349f7ce764208ddb28": {
          "model_module": "@jupyter-widgets/controls",
          "model_name": "FloatProgressModel",
          "model_module_version": "1.5.0",
          "state": {
            "_dom_classes": [],
            "_model_module": "@jupyter-widgets/controls",
            "_model_module_version": "1.5.0",
            "_model_name": "FloatProgressModel",
            "_view_count": null,
            "_view_module": "@jupyter-widgets/controls",
            "_view_module_version": "1.5.0",
            "_view_name": "ProgressView",
            "bar_style": "success",
            "description": "",
            "description_tooltip": null,
            "layout": "IPY_MODEL_2c106bcd93e348829238a0fa23e30b37",
            "max": 300,
            "min": 0,
            "orientation": "horizontal",
            "style": "IPY_MODEL_08d6a534c7b2475a849623ca9eb61554",
            "value": 300
          }
        },
        "03141cd8c1c540048b1b33a4ab90b17d": {
          "model_module": "@jupyter-widgets/controls",
          "model_name": "HTMLModel",
          "model_module_version": "1.5.0",
          "state": {
            "_dom_classes": [],
            "_model_module": "@jupyter-widgets/controls",
            "_model_module_version": "1.5.0",
            "_model_name": "HTMLModel",
            "_view_count": null,
            "_view_module": "@jupyter-widgets/controls",
            "_view_module_version": "1.5.0",
            "_view_name": "HTMLView",
            "description": "",
            "description_tooltip": null,
            "layout": "IPY_MODEL_25ce97eeddd149f78a65290b2152d6bf",
            "placeholder": "​",
            "style": "IPY_MODEL_e7074ce3e0794728bc8ed1a62ae98523",
            "value": " 300/300 [00:51&lt;00:00,  6.78it/s, Energy=-39.129+0.000j ± 0.013 [σ²=0.175, R̂=1.0102]]"
          }
        },
        "ce3a4b40ab164aa6822e521e7a323fd4": {
          "model_module": "@jupyter-widgets/base",
          "model_name": "LayoutModel",
          "model_module_version": "1.2.0",
          "state": {
            "_model_module": "@jupyter-widgets/base",
            "_model_module_version": "1.2.0",
            "_model_name": "LayoutModel",
            "_view_count": null,
            "_view_module": "@jupyter-widgets/base",
            "_view_module_version": "1.2.0",
            "_view_name": "LayoutView",
            "align_content": null,
            "align_items": null,
            "align_self": null,
            "border": null,
            "bottom": null,
            "display": "inline-flex",
            "flex": null,
            "flex_flow": "row wrap",
            "grid_area": null,
            "grid_auto_columns": null,
            "grid_auto_flow": null,
            "grid_auto_rows": null,
            "grid_column": null,
            "grid_gap": null,
            "grid_row": null,
            "grid_template_areas": null,
            "grid_template_columns": null,
            "grid_template_rows": null,
            "height": null,
            "justify_content": null,
            "justify_items": null,
            "left": null,
            "margin": null,
            "max_height": null,
            "max_width": null,
            "min_height": null,
            "min_width": null,
            "object_fit": null,
            "object_position": null,
            "order": null,
            "overflow": null,
            "overflow_x": null,
            "overflow_y": null,
            "padding": null,
            "right": null,
            "top": null,
            "visibility": null,
            "width": "100%"
          }
        },
        "87e48eae577640168a9993f66002b315": {
          "model_module": "@jupyter-widgets/base",
          "model_name": "LayoutModel",
          "model_module_version": "1.2.0",
          "state": {
            "_model_module": "@jupyter-widgets/base",
            "_model_module_version": "1.2.0",
            "_model_name": "LayoutModel",
            "_view_count": null,
            "_view_module": "@jupyter-widgets/base",
            "_view_module_version": "1.2.0",
            "_view_name": "LayoutView",
            "align_content": null,
            "align_items": null,
            "align_self": null,
            "border": null,
            "bottom": null,
            "display": null,
            "flex": null,
            "flex_flow": null,
            "grid_area": null,
            "grid_auto_columns": null,
            "grid_auto_flow": null,
            "grid_auto_rows": null,
            "grid_column": null,
            "grid_gap": null,
            "grid_row": null,
            "grid_template_areas": null,
            "grid_template_columns": null,
            "grid_template_rows": null,
            "height": null,
            "justify_content": null,
            "justify_items": null,
            "left": null,
            "margin": null,
            "max_height": null,
            "max_width": null,
            "min_height": null,
            "min_width": null,
            "object_fit": null,
            "object_position": null,
            "order": null,
            "overflow": null,
            "overflow_x": null,
            "overflow_y": null,
            "padding": null,
            "right": null,
            "top": null,
            "visibility": null,
            "width": null
          }
        },
        "249772ab7bec4345bc720b10b512437f": {
          "model_module": "@jupyter-widgets/controls",
          "model_name": "DescriptionStyleModel",
          "model_module_version": "1.5.0",
          "state": {
            "_model_module": "@jupyter-widgets/controls",
            "_model_module_version": "1.5.0",
            "_model_name": "DescriptionStyleModel",
            "_view_count": null,
            "_view_module": "@jupyter-widgets/base",
            "_view_module_version": "1.2.0",
            "_view_name": "StyleView",
            "description_width": ""
          }
        },
        "2c106bcd93e348829238a0fa23e30b37": {
          "model_module": "@jupyter-widgets/base",
          "model_name": "LayoutModel",
          "model_module_version": "1.2.0",
          "state": {
            "_model_module": "@jupyter-widgets/base",
            "_model_module_version": "1.2.0",
            "_model_name": "LayoutModel",
            "_view_count": null,
            "_view_module": "@jupyter-widgets/base",
            "_view_module_version": "1.2.0",
            "_view_name": "LayoutView",
            "align_content": null,
            "align_items": null,
            "align_self": null,
            "border": null,
            "bottom": null,
            "display": null,
            "flex": "2",
            "flex_flow": null,
            "grid_area": null,
            "grid_auto_columns": null,
            "grid_auto_flow": null,
            "grid_auto_rows": null,
            "grid_column": null,
            "grid_gap": null,
            "grid_row": null,
            "grid_template_areas": null,
            "grid_template_columns": null,
            "grid_template_rows": null,
            "height": null,
            "justify_content": null,
            "justify_items": null,
            "left": null,
            "margin": null,
            "max_height": null,
            "max_width": null,
            "min_height": null,
            "min_width": null,
            "object_fit": null,
            "object_position": null,
            "order": null,
            "overflow": null,
            "overflow_x": null,
            "overflow_y": null,
            "padding": null,
            "right": null,
            "top": null,
            "visibility": null,
            "width": null
          }
        },
        "08d6a534c7b2475a849623ca9eb61554": {
          "model_module": "@jupyter-widgets/controls",
          "model_name": "ProgressStyleModel",
          "model_module_version": "1.5.0",
          "state": {
            "_model_module": "@jupyter-widgets/controls",
            "_model_module_version": "1.5.0",
            "_model_name": "ProgressStyleModel",
            "_view_count": null,
            "_view_module": "@jupyter-widgets/base",
            "_view_module_version": "1.2.0",
            "_view_name": "StyleView",
            "bar_color": null,
            "description_width": ""
          }
        },
        "25ce97eeddd149f78a65290b2152d6bf": {
          "model_module": "@jupyter-widgets/base",
          "model_name": "LayoutModel",
          "model_module_version": "1.2.0",
          "state": {
            "_model_module": "@jupyter-widgets/base",
            "_model_module_version": "1.2.0",
            "_model_name": "LayoutModel",
            "_view_count": null,
            "_view_module": "@jupyter-widgets/base",
            "_view_module_version": "1.2.0",
            "_view_name": "LayoutView",
            "align_content": null,
            "align_items": null,
            "align_self": null,
            "border": null,
            "bottom": null,
            "display": null,
            "flex": null,
            "flex_flow": null,
            "grid_area": null,
            "grid_auto_columns": null,
            "grid_auto_flow": null,
            "grid_auto_rows": null,
            "grid_column": null,
            "grid_gap": null,
            "grid_row": null,
            "grid_template_areas": null,
            "grid_template_columns": null,
            "grid_template_rows": null,
            "height": null,
            "justify_content": null,
            "justify_items": null,
            "left": null,
            "margin": null,
            "max_height": null,
            "max_width": null,
            "min_height": null,
            "min_width": null,
            "object_fit": null,
            "object_position": null,
            "order": null,
            "overflow": null,
            "overflow_x": null,
            "overflow_y": null,
            "padding": null,
            "right": null,
            "top": null,
            "visibility": null,
            "width": null
          }
        },
        "e7074ce3e0794728bc8ed1a62ae98523": {
          "model_module": "@jupyter-widgets/controls",
          "model_name": "DescriptionStyleModel",
          "model_module_version": "1.5.0",
          "state": {
            "_model_module": "@jupyter-widgets/controls",
            "_model_module_version": "1.5.0",
            "_model_name": "DescriptionStyleModel",
            "_view_count": null,
            "_view_module": "@jupyter-widgets/base",
            "_view_module_version": "1.2.0",
            "_view_name": "StyleView",
            "description_width": ""
          }
        }
      }
    }
  },
  "nbformat": 4,
  "nbformat_minor": 0
}