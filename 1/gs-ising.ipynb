{
  "cells": [
    {
      "cell_type": "markdown",
      "metadata": {
        "id": "view-in-github",
        "colab_type": "text"
      },
      "source": [
        "<a href=\"https://colab.research.google.com/github/gcarleo/cecam-ml-2025/blob/main/1/gs-ising.ipynb\" target=\"_parent\"><img src=\"https://colab.research.google.com/assets/colab-badge.svg\" alt=\"Open In Colab\"/></a>"
      ]
    },
    {
      "cell_type": "markdown",
      "id": "bcc1a161",
      "metadata": {
        "tags": [],
        "id": "bcc1a161"
      },
      "source": [
        "# Ground-State: Ising model\n",
        "\n",
        "Authors: Giuseppe Carleo & Filippo Vicentini (EPFL-CQSL)\n"
      ]
    },
    {
      "cell_type": "markdown",
      "id": "ae721781-2989-46c5-a92b-ca528b145e6c",
      "metadata": {
        "id": "ae721781-2989-46c5-a92b-ca528b145e6c"
      },
      "source": [
        "In this Tutorial we will introduce the open-source package [NetKet](https://www.netket.org/), and show some of its functionalities. We will guide you through a relatively simple quantum problem, that however will be a good guide also to address more complex situations.\n",
        "\n",
        "Specifically, we will study the transverse-field Ising model in one dimension:\n",
        "\n",
        "$$\n",
        "H=\\Gamma\\sum_{i}\\sigma_{i}^{(x)}+V\\sum_{i}\\sigma_{i}^{(z)}\\sigma_{i+1}^{(z)}.\n",
        "$$\n",
        "\n",
        "In the following we assume periodic boundary conditions and we will count lattice sites starting from $ 0 $, such that $ i=0,1\\dots L-1 $ and $i=L=0$."
      ]
    },
    {
      "cell_type": "markdown",
      "id": "39bddf19",
      "metadata": {
        "tags": [],
        "id": "39bddf19"
      },
      "source": [
        "## 0. Installing Netket\n",
        "\n",
        "If you are executing this notebook on Colab, you will need to install netket. You can do so by running the following cell:"
      ]
    },
    {
      "cell_type": "code",
      "execution_count": 5,
      "id": "43e97750",
      "metadata": {
        "id": "43e97750"
      },
      "outputs": [],
      "source": [
        "%pip install --quiet netket"
      ]
    },
    {
      "cell_type": "markdown",
      "id": "f15de72d-9454-4873-a88f-a02ec10459ed",
      "metadata": {
        "id": "f15de72d-9454-4873-a88f-a02ec10459ed"
      },
      "source": [
        "We also want make to sure that this notebook is running on the cpu.\n",
        "You can edit the field by changing \"cpu\" to \"gpu\" to make it run on the GPU if you want.\n",
        "But you'll need to use much larger systems to see a benefit in the runtime.\n",
        "For systems with less than 40 spins GPUs slow you down remarkably."
      ]
    },
    {
      "cell_type": "code",
      "execution_count": 6,
      "id": "f752288d-caf4-4f53-a104-d4b2efe6e0fd",
      "metadata": {
        "id": "f752288d-caf4-4f53-a104-d4b2efe6e0fd"
      },
      "outputs": [],
      "source": [
        "import os\n",
        "\n",
        "os.environ[\"JAX_PLATFORM_NAME\"] = \"cpu\""
      ]
    },
    {
      "cell_type": "markdown",
      "id": "d8b7effe",
      "metadata": {
        "id": "d8b7effe"
      },
      "source": [
        "## 1. Defining The Hamiltonian\n",
        "\n",
        "The first step in our journey consists in defining the Hamiltonian we are interested in.\n",
        "For this purpose, we first need to define the kind of degrees of freedom we are dealing with (i.e. if we have spins, bosons, fermions etc).\n",
        "This is done specifying the Hilbert space of the problem. For example, let us concentrate on a problem with 20 spins-1/2.\n",
        "\n",
        "When building hilbert spaces, in general, the first argument determines the size of the local basis and the latter defines how many modes you have."
      ]
    },
    {
      "cell_type": "markdown",
      "id": "7f424667",
      "metadata": {
        "id": "7f424667"
      },
      "source": [
        "You can check that the installation was successful doing"
      ]
    },
    {
      "cell_type": "code",
      "execution_count": 7,
      "id": "65e5273d",
      "metadata": {
        "id": "65e5273d"
      },
      "outputs": [],
      "source": [
        "import netket as nk\n",
        "\n",
        "N = 20\n",
        "hi = nk.hilbert.Spin(s=1 / 2, N=N)"
      ]
    },
    {
      "cell_type": "markdown",
      "id": "3d889a00-c71a-450e-8ba5-af5c693706a5",
      "metadata": {
        "id": "3d889a00-c71a-450e-8ba5-af5c693706a5"
      },
      "source": [
        "NetKet's Hilbert spaces define the computational basis of the calculation, and are used to label and generate elements from it.\n",
        "The standard Spin-basis implicitly selects the `z` basis and elements of that basis will be elements $ v\\in\\{\\pm 1\\}^N $.\n",
        "\n",
        "It is possible to generate random basis elements through the function `random_state(rng, shape, dtype)`, where the first argument must be a jax RNG state (usually built with `jax.random.key(seed)`, second is an integer or a tuple giving the shape of the samples and the last is the dtype of the generated states."
      ]
    },
    {
      "cell_type": "code",
      "execution_count": 8,
      "id": "4b2bf39c-ae7f-4cb0-b141-093c448138e5",
      "metadata": {
        "colab": {
          "base_uri": "https://localhost:8080/"
        },
        "id": "4b2bf39c-ae7f-4cb0-b141-093c448138e5",
        "outputId": "0946b389-17ea-45b5-cde5-51c0f0ea69ad"
      },
      "outputs": [
        {
          "output_type": "execute_result",
          "data": {
            "text/plain": [
              "Array([[-1, -1, -1, -1, -1, -1,  1,  1,  1,  1,  1, -1,  1,  1, -1,  1,\n",
              "         1, -1, -1,  1],\n",
              "       [ 1,  1,  1, -1, -1,  1,  1,  1, -1, -1,  1,  1,  1, -1, -1,  1,\n",
              "        -1,  1,  1,  1],\n",
              "       [ 1, -1,  1, -1, -1,  1,  1,  1,  1, -1,  1,  1, -1,  1, -1, -1,\n",
              "         1,  1, -1, -1]], dtype=int8)"
            ]
          },
          "metadata": {},
          "execution_count": 8
        }
      ],
      "source": [
        "import jax\n",
        "\n",
        "hi.random_state(jax.random.key(0), 3)"
      ]
    },
    {
      "cell_type": "markdown",
      "id": "fc2e67ac",
      "metadata": {
        "id": "fc2e67ac"
      },
      "source": [
        "We now need to specify the Hamiltonian. For this purpose, we will use NetKet's ```LocalOperator``` (see details [here](https://www.netket.org/docs/_generated/operator/netket.operator.LocalOperator.html#netket.operator.LocalOperator)) which is the sum of arbitrary k-local operators.\n",
        "\n",
        "In this specific case, we have a 1-local operator, $ \\sigma^{(x)}_i $ and a 2-local operator, $ \\sigma^{(z)}_i \\sigma^{(z)}_j $. We then start importing the pauli operators.\n",
        "\n"
      ]
    },
    {
      "cell_type": "code",
      "execution_count": 9,
      "id": "b018e4d4",
      "metadata": {
        "id": "b018e4d4"
      },
      "outputs": [],
      "source": [
        "from netket.operator.spin import sigmax, sigmaz"
      ]
    },
    {
      "cell_type": "markdown",
      "id": "89c35665",
      "metadata": {
        "id": "89c35665"
      },
      "source": [
        "We now take $ \\Gamma=-1 $ and start defining the 1-local parts of the Hamiltonian"
      ]
    },
    {
      "cell_type": "code",
      "execution_count": 10,
      "id": "b35bde0c",
      "metadata": {
        "id": "b35bde0c"
      },
      "outputs": [],
      "source": [
        "Gamma = -1\n",
        "H = sum([Gamma * sigmax(hi, i) for i in range(N)])"
      ]
    },
    {
      "cell_type": "markdown",
      "id": "5b41d740",
      "metadata": {
        "id": "5b41d740"
      },
      "source": [
        "Here we have used a list comprehension to (mildly) show off our ability to write one-liners, however you could have just added the terms one by one in an explicit loop instead (though you'd end up with a whopping 3 lines of code).\n",
        "\n",
        "We now also add the interaction terms, using the fact that NetKet automatically recognizes products of local operators as tensor products."
      ]
    },
    {
      "cell_type": "code",
      "execution_count": 11,
      "id": "eb378d9c",
      "metadata": {
        "id": "eb378d9c"
      },
      "outputs": [],
      "source": [
        "V = -1\n",
        "H += sum([V * sigmaz(hi, i) * sigmaz(hi, (i + 1) % N) for i in range(N)])"
      ]
    },
    {
      "cell_type": "markdown",
      "id": "59025d8c-dede-496f-b2f0-6ad63966be1d",
      "metadata": {
        "id": "59025d8c-dede-496f-b2f0-6ad63966be1d"
      },
      "source": [
        "In general, when manipulating NetKet objects, you should always assume that you can safely operate on them like\n",
        "you would in mathematical equations, therefore you can sum and multiply them with ease."
      ]
    },
    {
      "cell_type": "markdown",
      "id": "65581d8b",
      "metadata": {
        "id": "65581d8b"
      },
      "source": [
        "## 2. Exact Diagonalization\n",
        "\n",
        "Now that we have defined the Hamiltonian, we can already start playing with it. For example, since the number of spins is large but still manageable for exact diagonalization, we can give it a try.\n",
        "\n",
        "In NetKet this is easily done converting our Hamiltonian operator into a sparse matrix of size $ 2^N \\times 2^ N $."
      ]
    },
    {
      "cell_type": "code",
      "execution_count": 12,
      "id": "d36dd96c",
      "metadata": {
        "colab": {
          "base_uri": "https://localhost:8080/"
        },
        "id": "d36dd96c",
        "outputId": "9cd25afa-81c5-40be-dd54-c32496dbeee5"
      },
      "outputs": [
        {
          "output_type": "execute_result",
          "data": {
            "text/plain": [
              "(1048576, 1048576)"
            ]
          },
          "metadata": {},
          "execution_count": 12
        }
      ],
      "source": [
        "sp_h = H.to_sparse()\n",
        "sp_h.shape"
      ]
    },
    {
      "cell_type": "markdown",
      "id": "e0b786e6",
      "metadata": {
        "id": "e0b786e6"
      },
      "source": [
        "Since this is just a regular scipy sparse matrix, we can just use any sparse diagonalization routine in there to find the eigenstates. For example, this will find the two lowest eigenstates  "
      ]
    },
    {
      "cell_type": "code",
      "execution_count": null,
      "id": "1123bc8c",
      "metadata": {
        "id": "1123bc8c"
      },
      "outputs": [],
      "source": [
        "from scipy.sparse.linalg import eigsh\n",
        "\n",
        "eig_vals, eig_vecs = eigsh(sp_h, k=2, which=\"SA\")\n",
        "\n",
        "print(\"eigenvalues with scipy sparse:\", eig_vals)\n",
        "\n",
        "E_gs = eig_vals[0]"
      ]
    },
    {
      "cell_type": "markdown",
      "id": "8e51cc79",
      "metadata": {
        "id": "8e51cc79"
      },
      "source": [
        "## 3. Mean-Field Ansatz\n",
        "\n",
        "We now would like to find a variational approximation of the ground state of this Hamiltonian. As a first step, we can try to use a very simple mean field ansatz:\n",
        "\n",
        "$$ \\langle \\sigma^{z}_1,\\dots \\sigma^{z}_N| \\Psi_{\\mathrm{mf}} \\rangle = \\Pi_{i=1}^{N} \\Phi(\\sigma^{z}_i), $$\n",
        "\n",
        "where the variational parameters are the single-spin wave functions, which we can further take to be normalized:\n",
        "\n",
        "$$ |\\Phi(\\uparrow)|^2 + |\\Phi(\\downarrow)|^2 =1, $$\n",
        "\n",
        "and we can further write $ \\Phi(\\sigma^z) = \\sqrt{P(\\sigma^z)}e^{i \\phi(\\sigma^z)}$. In order to simplify the presentation, we take here and in the following examples the phase $ \\phi=0 $. In this specific model this is without loss of generality, since it is known that the ground state is real and positive.\n",
        "\n",
        "For the normalized single-spin probability we will take a sigmoid form:\n",
        "\n",
        "$$ P(\\sigma_z; \\lambda) = 1/(1+\\exp(-\\lambda \\sigma_z)), $$\n",
        "\n",
        "thus depending on the real-valued variational parameter $\\lambda$.\n",
        "In NetKet one has to define a variational function approximating the **logarithm** of the wave-function amplitudes (or density-matrix values).\n",
        "We call this variational function _the Model_ (yes, caps on the M).\n",
        "\n",
        "$$ \\langle \\sigma^{z}_1,\\dots \\sigma^{z}_N| \\Psi_{\\mathrm{mf}} \\rangle = \\exp\\left[\\mathrm{Model}(\\sigma^{z}_1,\\dots \\sigma^{z}_N ; \\theta ) \\right], $$\n",
        "\n",
        "where $\\theta$ is a set of parameters.\n",
        "In this case, the parameter of the model will be just one: $\\gamma$.  \n",
        "\n",
        "The Model can be defined using one of the several *functional* jax frameworks such as Jax/Stax, Flax or Haiku.\n",
        "NetKet includes several pre-built models and layers built with [Flax](https://github.com/google/flax), so we will be using it for the rest of the notebook."
      ]
    },
    {
      "cell_type": "code",
      "execution_count": null,
      "id": "967e1611",
      "metadata": {
        "id": "967e1611"
      },
      "outputs": [],
      "source": [
        "# numerical operations in the model should always use jax.numpy\n",
        "# instead of numpy because jax supports computing derivatives.\n",
        "# If you want to better understand the difference between the two, check\n",
        "# https://flax.readthedocs.io/en/latest/notebooks/jax_for_the_impatient.html\n",
        "import jax.numpy as jnp\n",
        "\n",
        "# Flax is a framework to define models using jax\n",
        "import flax\n",
        "\n",
        "# Flax has two 'neural network' libraries. THe  first one is `flax.linen`\n",
        "# which has been in use since 2020, and most examples use it. The new one,\n",
        "# nnx, is somewhat simpler to use, and it's the one we will use here.\n",
        "from flax import nnx\n",
        "\n",
        "\n",
        "# An NNX model must be a class subclassing `nnx.Module`\n",
        "class MF(nnx.Module):\n",
        "    \"\"\"\n",
        "    A class implementing a uniform mean-field model.\n",
        "    \"\"\"\n",
        "\n",
        "    # The __init__ function is used to define the parameters of the model\n",
        "    # The RNG argument is used to initialize the parameters of the model.\n",
        "    def __init__(self, *, rngs: nnx.Rngs):\n",
        "        # To generate random numbers we need to extract the key from the\n",
        "        # `rngs` object.\n",
        "        key = rngs.params()\n",
        "        # We store the log-wavefunction on a single site, and we call it\n",
        "        # `log_phi_local`. This is a variational parameter, and it will be\n",
        "        # optimized during training.\n",
        "        #\n",
        "        # We store a single real parameter, as we assume the wavefunction\n",
        "        # is normalised, and initialise it according to a normal distibution.\n",
        "        self.log_phi_local = nnx.Param(jax.random.normal(key, (1,)))\n",
        "\n",
        "    # The __call__(self, x) function should take as\n",
        "    # input a batch of states x.shape = (n_samples, L)\n",
        "    # and should return a vector of n_samples log-amplitudes\n",
        "    def __call__(self, x: jax.Array):\n",
        "\n",
        "        # compute the probabilities\n",
        "        p = nnx.log_sigmoid(self.log_phi_local * x)\n",
        "\n",
        "        # sum the output\n",
        "        return 0.5 * jnp.sum(p, axis=-1)"
      ]
    },
    {
      "cell_type": "markdown",
      "id": "c1ccb969-487e-43e6-ac87-50cde68c68e1",
      "metadata": {
        "id": "c1ccb969-487e-43e6-ac87-50cde68c68e1"
      },
      "source": [
        "Here we use ``flax.nnx`` to construct the model, which is a more modern and simpler neural-network library when compared to ``flax.linen``, which is what was used in NetKet for many years. In fact, you can use both those libraries with NetKet! Just be careful that the two are quite different.\n",
        "\n",
        "To actually create a variational state the easiest way is to construct a Monte-Carlo-sampled Variational State.\n",
        "To do this, we first need to define a sampler.\n",
        "\n",
        "In `netket.sampler` several samplers are defined, each with its own peculiarities.\n",
        "In the following example, we will be using a simple sampler that flips the spins in the configurations one by one.\n",
        "\n",
        "You can read more about how the sampler works by checking the documentation with `?nk.sampler.MetropolisLocal`"
      ]
    },
    {
      "cell_type": "code",
      "execution_count": null,
      "id": "6fe71478",
      "metadata": {
        "id": "6fe71478"
      },
      "outputs": [],
      "source": []
    },
    {
      "cell_type": "code",
      "execution_count": null,
      "id": "c2cb0ac3-bc4c-4743-adec-03bb4e2d7c55",
      "metadata": {
        "id": "c2cb0ac3-bc4c-4743-adec-03bb4e2d7c55"
      },
      "outputs": [],
      "source": [
        "# Create an instance of the model, using the seed 0\n",
        "mf_model = MF(rngs=nnx.Rngs(0))\n",
        "# If you want to learn more about how to use this model, check the nnx tutorial\n",
        "# https://flax.readthedocs.io/en/latest/nnx_basics.html\n",
        "\n",
        "# Create the local sampler on the hilbert space\n",
        "sampler = nk.sampler.MetropolisLocal(hi)\n",
        "\n",
        "# Construct the variational state using the model and the sampler above.\n",
        "# n_samples specifies how many samples should be used to compute expectation\n",
        "# values.\n",
        "vstate = nk.vqs.MCState(sampler, mf_model, n_samples=512)"
      ]
    },
    {
      "cell_type": "markdown",
      "id": "2e9925a2-fbfb-4580-bba9-d8e233ab798c",
      "metadata": {
        "id": "2e9925a2-fbfb-4580-bba9-d8e233ab798c"
      },
      "source": [
        "You can play around with the variational state: for example, you can compute expectation values yourself or inspect it's parameters.\n",
        "The parameters are stored as a set of nested dictionaries. In this case, the single parameter $\\lambda$ is stored inside a (frozen) dictionary.\n",
        "(The reason why the dictionary is frozen is a detail of Flax)."
      ]
    },
    {
      "cell_type": "code",
      "execution_count": null,
      "id": "578fae25-6b39-41c1-a25e-51de791b7aa3",
      "metadata": {
        "id": "578fae25-6b39-41c1-a25e-51de791b7aa3"
      },
      "outputs": [],
      "source": [
        "print(vstate.parameters)"
      ]
    },
    {
      "cell_type": "markdown",
      "id": "e6f23399-7a3c-43c1-8d1c-14f8d5f13ea3",
      "metadata": {
        "id": "e6f23399-7a3c-43c1-8d1c-14f8d5f13ea3"
      },
      "source": [
        "With a variational state, you can compute expectation values of operators.\n",
        "Notice that it also provides an error estimate and the variance of this estimator.\n",
        "If you are close to an eigenstate of the operators, the variance should be 0 or close to 0.\n",
        "\n",
        "The $\\hat{R}$ value is a Monte-Carlo convergence estimator. It will be $\\hat{R}\\approx 1$ if the Markov Chain is converged, while it will be far from $1$ if your sampling has not converged.\n",
        "As a rule of thumb, look out for $|\\hat{R}| > 1.1$, and check if your sampling scheme or sampler is consistent with your system specification.\n",
        "\n",
        "You can also investigate the correlation time of your estimator, $\\tau$. If $\\tau\\gg1$ then your samples are very correlated and you most likely have some issues with your sampling scheme."
      ]
    },
    {
      "cell_type": "code",
      "execution_count": null,
      "id": "0ea20c03-dcfa-4cda-8f2f-b1d86a95872b",
      "metadata": {
        "id": "0ea20c03-dcfa-4cda-8f2f-b1d86a95872b"
      },
      "outputs": [],
      "source": [
        "E = vstate.expect(H)\n",
        "print(E)"
      ]
    },
    {
      "cell_type": "markdown",
      "id": "d393a326-8afb-47d5-ac46-9c6eaaaf1963",
      "metadata": {
        "id": "d393a326-8afb-47d5-ac46-9c6eaaaf1963"
      },
      "source": [
        "You can also access the fields individually:\n",
        "Note that if you run your calculation using MPI on different processes/machines, those estimators will return the mean, error and estimators of all the samples across all the processes."
      ]
    },
    {
      "cell_type": "code",
      "execution_count": null,
      "id": "df25e787-deb1-4c3c-a6a8-5150948a6f3f",
      "metadata": {
        "id": "df25e787-deb1-4c3c-a6a8-5150948a6f3f"
      },
      "outputs": [],
      "source": [
        "print(\"Mean                  :\", E.mean)\n",
        "print(\"Error                 :\", E.error_of_mean)\n",
        "print(\"Variance              :\", E.variance)\n",
        "print(\"Convergence indicator :\", E.R_hat)\n",
        "print(\"Correlation time      :\", E.tau_corr)"
      ]
    },
    {
      "cell_type": "code",
      "execution_count": null,
      "id": "c161f0a6-3f95-4f6e-9dd2-d2a71527efce",
      "metadata": {
        "id": "c161f0a6-3f95-4f6e-9dd2-d2a71527efce"
      },
      "outputs": [],
      "source": [
        "vstate.expect_and_grad(H)"
      ]
    },
    {
      "cell_type": "markdown",
      "id": "1b5b6302",
      "metadata": {
        "tags": [],
        "id": "1b5b6302"
      },
      "source": [
        "## 4. Variational Monte Carlo"
      ]
    },
    {
      "cell_type": "markdown",
      "id": "8ab77267-892e-48d2-97e2-eee6c8eae796",
      "metadata": {
        "id": "8ab77267-892e-48d2-97e2-eee6c8eae796"
      },
      "source": [
        "We will now try to optimise $ \\lambda $ in order to best approximate the ground state of the hamiltonian.\n",
        "\n",
        "At first, we'll try to do this by ourselves by writing the training loop, but then we'll switch to using a pre-made\n",
        "solution provided by netket for simplicity."
      ]
    },
    {
      "cell_type": "markdown",
      "id": "d103e357-f079-4816-8323-d9a606748a04",
      "metadata": {
        "id": "d103e357-f079-4816-8323-d9a606748a04"
      },
      "source": [
        "### 4a. DIY Optimisation loop\n",
        "\n",
        "The optimisation (or training) loop must do a very simple thing: at every iteration it must compute the energy and it's gradient, then multiply the gradient by a certain learning rate $\\lambda = 0.05$ and lastly it must update the parameters with this rescaled gradient.\n",
        "You can do so as follows:"
      ]
    },
    {
      "cell_type": "code",
      "execution_count": null,
      "id": "ef4b0687-1f78-4c2e-9f17-16c3fac2f064",
      "metadata": {
        "id": "ef4b0687-1f78-4c2e-9f17-16c3fac2f064"
      },
      "outputs": [],
      "source": [
        "from tqdm import tqdm\n",
        "\n",
        "energy_history = []\n",
        "n_steps = 100\n",
        "\n",
        "# For every iteration (tqdm is just a progress bar)\n",
        "for i in tqdm(range(n_steps)):\n",
        "    # compute energy and gradient of the energy\n",
        "    E, E_grad = vstate.expect_and_grad(H)\n",
        "    # log the energy to a list\n",
        "    energy_history.append(E.mean.real)\n",
        "    # equivalent to vstate.parameters - 0.05*E_grad , but it performs this\n",
        "    # function on every leaf of the dictionaries containing the set of parameters\n",
        "    new_pars = jax.tree_util.tree_map(\n",
        "        lambda x, y: x - 0.05 * y, vstate.parameters, E_grad\n",
        "    )\n",
        "    # actually update the parameters\n",
        "    vstate.parameters = new_pars"
      ]
    },
    {
      "cell_type": "markdown",
      "id": "7d22ec7f-4479-47d4-a921-b568a4280c4f",
      "metadata": {
        "id": "7d22ec7f-4479-47d4-a921-b568a4280c4f"
      },
      "source": [
        "We now can plot the energy during those optimisation steps:\n"
      ]
    },
    {
      "cell_type": "code",
      "execution_count": null,
      "id": "747f2a0e-3408-443d-8f9b-13f70db15231",
      "metadata": {
        "id": "747f2a0e-3408-443d-8f9b-13f70db15231"
      },
      "outputs": [],
      "source": [
        "import matplotlib.pyplot as plt\n",
        "\n",
        "plt.plot(energy_history)"
      ]
    },
    {
      "cell_type": "markdown",
      "id": "a10ade91-7ad7-4a8c-997d-e4ee9098b2d7",
      "metadata": {
        "id": "a10ade91-7ad7-4a8c-997d-e4ee9098b2d7"
      },
      "source": [
        "### 4b. Use NetKet's optimisation driver\n",
        "\n",
        "As writing the whole optimisation loop by yourself every time is.. boring, we can make use of a coupled of NetKet's built-in utilities."
      ]
    },
    {
      "cell_type": "code",
      "execution_count": null,
      "id": "4572b5c5",
      "metadata": {
        "id": "4572b5c5"
      },
      "outputs": [],
      "source": [
        "# First we reset the parameters to run the optimisation again\n",
        "vstate.init_parameters()\n",
        "\n",
        "# Then we create an optimiser from the standard library.\n",
        "# You can also use optax.\n",
        "optimizer = nk.optimizer.Sgd(learning_rate=0.05)\n",
        "\n",
        "# build the optimisation driver\n",
        "gs = nk.driver.VMC(H, optimizer, variational_state=vstate)\n",
        "\n",
        "# run the driver for 300 iterations. This will display a progress bar\n",
        "# by default.\n",
        "gs.run(n_iter=300)\n",
        "\n",
        "mf_energy = vstate.expect(H)\n",
        "error = abs((mf_energy.mean - eig_vals[0]) / eig_vals[0])\n",
        "print(\"Optimized energy and relative error: \", mf_energy, error)"
      ]
    },
    {
      "cell_type": "code",
      "execution_count": null,
      "id": "4f4b1a2d-fcbf-4248-ae18-d0f527ac67e5",
      "metadata": {
        "id": "4f4b1a2d-fcbf-4248-ae18-d0f527ac67e5"
      },
      "outputs": [],
      "source": [
        "# we can also inspect the parameter:\n",
        "print(\"Final optimized parameter: \", vstate.parameters[\"log_phi_local\"])"
      ]
    },
    {
      "cell_type": "code",
      "execution_count": null,
      "id": "5bb5976b-da47-45af-88e8-690afb3980b1",
      "metadata": {
        "id": "5bb5976b-da47-45af-88e8-690afb3980b1"
      },
      "outputs": [],
      "source": [
        "eig_vals[0]"
      ]
    },
    {
      "cell_type": "markdown",
      "id": "d9f0e656",
      "metadata": {
        "id": "d9f0e656"
      },
      "source": [
        "## 5. Jastrow Ansatz\n",
        "\n",
        "We have seen that the mean field ansatz yields about 2% error on the ground-state energy. Let's now try to do better, using a more correlated ansatz.\n",
        "\n",
        "We will now take a short-range Jastrow ansatz, entangling nearest and next-to nearest neighbors, of the form\n",
        "\n",
        "$$ \\langle \\sigma^{z}_1,\\dots \\sigma^{z}_N| \\Psi_{\\mathrm{jas}} \\rangle = \\exp \\left( \\sum_i J_1 \\sigma^{z}_i\\sigma^{z}_{i+1} + J_2 \\sigma^{z}_i\\sigma^{z}_{i+2} \\right),$$\n",
        "\n",
        "where the parameters $J_1$ and $J_2$ are to be learned.\n",
        "\n",
        "Again we can write the model using flax."
      ]
    },
    {
      "cell_type": "code",
      "execution_count": null,
      "id": "4b390e0a",
      "metadata": {
        "id": "4b390e0a"
      },
      "outputs": [],
      "source": [
        "class JasShort(nnx.Module):\n",
        "\n",
        "    def __init__(self, *, rngs: nnx.Rngs):\n",
        "\n",
        "        # Define two parameters j1, and j2.\n",
        "        # Initialise them with a random normal distribution of standard deviation\n",
        "        # 0.01\n",
        "        # We must get a different key for each parameter, otherwise they will be\n",
        "        # initialised with the same value.\n",
        "        self.j1 = nnx.Param(0.01 * jax.random.normal(rngs.params(), (1,)), dtype=float)\n",
        "        self.j2 = nnx.Param(0.01 * jax.random.normal(rngs.params(), (1,)), dtype=float)\n",
        "\n",
        "    def __call__(self, x: jax.Array):\n",
        "\n",
        "        # compute the nearest-neighbor correlations\n",
        "        corr1 = x * jnp.roll(x, -1, axis=-1)\n",
        "        corr2 = x * jnp.roll(x, -2, axis=-1)\n",
        "\n",
        "        # sum the output\n",
        "        return jnp.sum(self.j1 * corr1 + self.j2 * corr2, axis=-1)\n",
        "\n",
        "\n",
        "# Initialise the model wtih seed 1\n",
        "model = JasShort(rngs=nnx.Rngs(1))\n",
        "\n",
        "vstate = nk.vqs.MCState(sampler, model, n_samples=1008)"
      ]
    },
    {
      "cell_type": "markdown",
      "id": "1616acc8",
      "metadata": {
        "id": "1616acc8"
      },
      "source": [
        "We then optimize it, however this time we also introduce a stochastic reconfiguration (natural gradient) preconditioner. Also, we now log the intermediate results of the optimization, so that we can visualize them at a later stage.\n",
        "\n",
        "Loggers that work together with optimisation drivers are defined in `nk.logging`. In this example we use `RuntimeLog`, which keeps the metrics in memory. You could also use `JsonLog`, which stores data to a json file which can be later read as a dict or `TensorBoardLog` which connects to [TensorBoard](https://www.tensorflow.org/tensorboard)."
      ]
    },
    {
      "cell_type": "code",
      "execution_count": null,
      "id": "11db148b",
      "metadata": {
        "id": "11db148b"
      },
      "outputs": [],
      "source": [
        "optimizer = nk.optimizer.Sgd(learning_rate=0.01)\n",
        "\n",
        "gs = nk.driver.VMC(\n",
        "    H,\n",
        "    optimizer,\n",
        "    variational_state=vstate,\n",
        "    preconditioner=nk.optimizer.SR(diag_shift=0.1),\n",
        ")\n",
        "\n",
        "# construct the logger\n",
        "log = nk.logging.RuntimeLog()\n",
        "\n",
        "# One or more logger objects must be passed to the keyword argument `out`.\n",
        "gs.run(n_iter=300, out=log)\n",
        "\n",
        "print(\n",
        "    f\"Final optimized parameters: j1={vstate.parameters['j1']}, j2={vstate.parameters['j2']}\"\n",
        ")\n",
        "\n",
        "jas_energy = vstate.expect(H)\n",
        "error = abs((jas_energy.mean - eig_vals[0]) / eig_vals[0])\n",
        "print(f\"Optimized energy : {jas_energy}\")\n",
        "print(f\"relative error   : {error}\")"
      ]
    },
    {
      "cell_type": "markdown",
      "id": "e9b18a6a",
      "metadata": {
        "id": "e9b18a6a"
      },
      "source": [
        "You can now see that this ansatz is almost one order of magnitude more accurate than the mean field!\n",
        "\n",
        "In order to visualize what happened during the optimization, we can use the data that has been stored by the logger. There are several available loggers in NetKet, here we have just used a simple one that stores the intermediate results as values in a dictionary."
      ]
    },
    {
      "cell_type": "code",
      "execution_count": null,
      "id": "4b34166d-92eb-4ad8-a43f-cffc3bb717be",
      "metadata": {
        "id": "4b34166d-92eb-4ad8-a43f-cffc3bb717be"
      },
      "outputs": [],
      "source": [
        "data_jastrow = log.data\n",
        "print(data_jastrow)"
      ]
    },
    {
      "cell_type": "markdown",
      "id": "00670bd1",
      "metadata": {
        "id": "00670bd1"
      },
      "source": [
        "These report several intermediate quantities, that can be easily plotted. For example we can plot the value of the energy (with its error bar) at each optimization step.  "
      ]
    },
    {
      "cell_type": "code",
      "execution_count": null,
      "id": "6d5c22fb",
      "metadata": {
        "scrolled": true,
        "id": "6d5c22fb"
      },
      "outputs": [],
      "source": [
        "from matplotlib import pyplot as plt\n",
        "\n",
        "plt.errorbar(\n",
        "    data_jastrow[\"Energy\"].iters,\n",
        "    data_jastrow[\"Energy\"].Mean,\n",
        "    yerr=data_jastrow[\"Energy\"].Sigma,\n",
        ")\n",
        "plt.xlabel(\"Iterations\")\n",
        "plt.ylabel(\"Energy\")"
      ]
    },
    {
      "cell_type": "markdown",
      "id": "d216a4d6",
      "metadata": {
        "id": "d216a4d6"
      },
      "source": [
        "## 6. Neural-Network Quantum State\n",
        "\n",
        "We now want to use a more sophisticated ansatz, based on a neural network representation of the wave function. At this point, this is quite straightforward, since we can again take advantage of automatic differentiation.\n",
        "\n",
        "Let us define a simple fully-connected feed-forward network with a ReLu activation function and a sum layer."
      ]
    },
    {
      "cell_type": "code",
      "execution_count": null,
      "id": "2b5c30e7",
      "metadata": {
        "id": "2b5c30e7"
      },
      "outputs": [],
      "source": [
        "class FFN(nnx.Module):\n",
        "\n",
        "    def __init__(self, N: int, alpha: int = 1, *, rngs: nnx.Rngs):\n",
        "        \"\"\"\n",
        "        Construct a Feed-Forward Neural Network with a single hidden layer.\n",
        "\n",
        "        Args:\n",
        "            N: The number of input nodes (number of spins in the chain).\n",
        "            alpha: The density of the hidden layer. The hidden layer will have\n",
        "                N*alpha nodes.\n",
        "            rngs: The random number generator seed.\n",
        "        \"\"\"\n",
        "        self.alpha = alpha\n",
        "\n",
        "        # We define a linear (or dense) layer with `alpha` times the number of input nodes\n",
        "        # as output nodes.\n",
        "        # We must pass forward the rngs object to the dense layer.\n",
        "        self.linear = nnx.Linear(in_features=N, out_features=alpha * N, rngs=rngs)\n",
        "\n",
        "    def __call__(self, x: jax.Array):\n",
        "\n",
        "        # we apply the linear layer to the input\n",
        "        y = self.linear(x)\n",
        "\n",
        "        # the non-linearity is a simple ReLu\n",
        "        y = nnx.relu(y)\n",
        "\n",
        "        # sum the output\n",
        "        return jnp.sum(y, axis=-1)\n",
        "\n",
        "\n",
        "model = FFN(N=N, alpha=1, rngs=nnx.Rngs(2))\n",
        "\n",
        "vstate = nk.vqs.MCState(sampler, model, n_samples=1008)"
      ]
    },
    {
      "cell_type": "markdown",
      "id": "f29016f4",
      "metadata": {
        "id": "f29016f4"
      },
      "source": [
        "We then proceed to the optimization as before."
      ]
    },
    {
      "cell_type": "code",
      "execution_count": null,
      "id": "279c052e",
      "metadata": {
        "id": "279c052e"
      },
      "outputs": [],
      "source": [
        "optimizer = nk.optimizer.Sgd(learning_rate=0.1)\n",
        "\n",
        "# Notice the use, again of Stochastic Reconfiguration, which considerably improves the optimisation\n",
        "gs = nk.driver.VMC(\n",
        "    H,\n",
        "    optimizer,\n",
        "    variational_state=vstate,\n",
        "    preconditioner=nk.optimizer.SR(diag_shift=0.1),\n",
        ")\n",
        "\n",
        "log = nk.logging.RuntimeLog()\n",
        "gs.run(n_iter=300, out=log)\n",
        "\n",
        "ffn_energy = vstate.expect(H)\n",
        "error = abs((ffn_energy.mean - eig_vals[0]) / eig_vals[0])\n",
        "print(\"Optimized energy and relative error: \", ffn_energy, error)"
      ]
    },
    {
      "cell_type": "markdown",
      "id": "26014bdc-f72b-466f-b7d7-761a7499ce25",
      "metadata": {
        "id": "26014bdc-f72b-466f-b7d7-761a7499ce25"
      },
      "source": [
        "And we can compare the results between the two different Ansätze:"
      ]
    },
    {
      "cell_type": "code",
      "execution_count": null,
      "id": "10580934-c128-47ef-beb4-315420d63b9a",
      "metadata": {
        "id": "10580934-c128-47ef-beb4-315420d63b9a"
      },
      "outputs": [],
      "source": [
        "data_FFN = log.data\n",
        "\n",
        "plt.errorbar(\n",
        "    data_jastrow[\"Energy\"].iters,\n",
        "    data_jastrow[\"Energy\"].Mean,\n",
        "    yerr=data_jastrow[\"Energy\"].Sigma,\n",
        "    label=\"Jastrow\",\n",
        ")\n",
        "plt.errorbar(\n",
        "    data_FFN[\"Energy\"].iters,\n",
        "    data_FFN[\"Energy\"].Mean,\n",
        "    yerr=data_FFN[\"Energy\"].Sigma,\n",
        "    label=\"FFN\",\n",
        ")\n",
        "plt.hlines([E_gs], xmin=0, xmax=300, color=\"black\", label=\"Exact\")\n",
        "plt.legend()\n",
        "\n",
        "plt.xlabel(\"Iterations\")\n",
        "plt.ylabel(\"Energy\")"
      ]
    },
    {
      "cell_type": "markdown",
      "id": "5ff286a6",
      "metadata": {
        "id": "5ff286a6"
      },
      "source": [
        "## 7. Translation Symmetry\n",
        "\n",
        "In order to enforce spatial symmetries we can use some built-in functionalities of NetKet, in conjunction with equivariant layers.\n",
        "\n",
        "The first step is to construct explicitly a graph that contains the edges of our interactions, in this case this is a simple chain with periodic boundaries. NetKet has builtin several symmetry groups that can be used to target specific spatial symmetries. In this case for example after constructing the graph we can also print its translation group.\n"
      ]
    },
    {
      "cell_type": "code",
      "execution_count": null,
      "id": "72f147d6",
      "metadata": {
        "id": "72f147d6"
      },
      "outputs": [],
      "source": [
        "graph = nk.graph.Chain(length=N, pbc=True)\n",
        "\n",
        "print(graph.translation_group())"
      ]
    },
    {
      "cell_type": "markdown",
      "id": "64cabe68",
      "metadata": {
        "id": "64cabe68"
      },
      "source": [
        "Graphs are in general quite handy when defining hamiltonian terms on their edges. For example we can define our Hamiltonian as"
      ]
    },
    {
      "cell_type": "code",
      "execution_count": null,
      "id": "ae71872a",
      "metadata": {
        "id": "ae71872a"
      },
      "outputs": [],
      "source": [
        "Gamma = -1\n",
        "H = sum([Gamma * sigmax(hi, i) for i in range(N)])\n",
        "\n",
        "V = -1\n",
        "H += sum([V * sigmaz(hi, i) * sigmaz(hi, j) for (i, j) in graph.edges()])"
      ]
    },
    {
      "cell_type": "markdown",
      "id": "e0196f9f",
      "metadata": {
        "id": "e0196f9f"
      },
      "source": [
        "We now write a model with an invariant transformation given by the translation group. Notice that we will now use NetKet's own ```nn``` module, instead of Flax, since it contains several additions and also an extended and seamless support for complex layers/parameters.  "
      ]
    },
    {
      "cell_type": "code",
      "execution_count": null,
      "id": "a0f65b95",
      "metadata": {
        "id": "a0f65b95"
      },
      "outputs": [],
      "source": [
        "import flax.linen as nn\n",
        "import netket.nn as nknn\n",
        "\n",
        "\n",
        "class SymmModel(nnx.Module):\n",
        "\n",
        "    def __init__(self, N: int, alpha: int = 1, *, rngs: nnx.Rngs):\n",
        "        \"\"\"\n",
        "        Construct a Feed-Forward Neural Network with a single hidden layer.\n",
        "\n",
        "        Args:\n",
        "            N: The number of input nodes (number of spins in the chain).\n",
        "            alpha: The density of the hidden layer. The hidden layer will have\n",
        "                N*alpha nodes.\n",
        "            rngs: The random number generator seed.\n",
        "        \"\"\"\n",
        "        self.alpha = alpha\n",
        "\n",
        "        # We want to use netket's DenseSymm layer, which requires a symmetry group.\n",
        "        dense_symm_linen = nknn.DenseSymm(\n",
        "            symmetries=graph.translation_group(),\n",
        "            features=alpha,\n",
        "            kernel_init=nn.initializers.normal(stddev=0.01),\n",
        "        )\n",
        "        # However, this layer is defined using ``flax.linen``, so to use it with NNX we\n",
        "        # must resort to the conversion function ``nnx.bridge.ToNNX``.\n",
        "        # The syntax is a bit weird, as we need to separately pass the random number generator\n",
        "        # and then initialize the layer with a dummy input of shape (1, 1, Nsites).\n",
        "        self.linear_symm = nnx.bridge.ToNNX(dense_symm_linen, rngs=rngs).lazy_init(\n",
        "            jnp.ones((1, 1, N))\n",
        "        )\n",
        "\n",
        "    def __call__(self, x: jax.Array):\n",
        "        # add an extra dimension with size 1, because DenseSymm requires rank-3 tensors as inputs.\n",
        "        # the shape will now be (batches, 1, Nsites)\n",
        "        x = x.reshape(-1, 1, x.shape[-1])\n",
        "\n",
        "        x = self.linear_symm(x)\n",
        "        x = nnx.relu(x)\n",
        "\n",
        "        # sum the output\n",
        "        return jnp.sum(x, axis=(-1, -2))\n",
        "\n",
        "\n",
        "sampler = nk.sampler.MetropolisLocal(hi)\n",
        "\n",
        "# Let us define a model with 4 features per symmetry\n",
        "model = SymmModel(N=N, alpha=4, rngs=nnx.Rngs(2))\n",
        "\n",
        "vstate = nk.vqs.MCState(sampler, model, n_samples=1008)\n",
        "\n",
        "vstate.n_parameters"
      ]
    },
    {
      "cell_type": "markdown",
      "id": "7e0ca35d",
      "metadata": {
        "id": "7e0ca35d"
      },
      "source": [
        "As it can be seen, the number of parameters of this model is greatly reduced, because of the symmetries that impose constraints on the weights of the dense layers. We can now optimize the model, using a few more optimization steps than before.  "
      ]
    },
    {
      "cell_type": "code",
      "execution_count": null,
      "id": "16a45cf8",
      "metadata": {
        "id": "16a45cf8"
      },
      "outputs": [],
      "source": [
        "optimizer = nk.optimizer.Sgd(learning_rate=0.1)\n",
        "\n",
        "gs = nk.driver.VMC(\n",
        "    H,\n",
        "    optimizer,\n",
        "    variational_state=vstate,\n",
        "    preconditioner=nk.optimizer.SR(diag_shift=0.1),\n",
        ")\n",
        "\n",
        "log = nk.logging.RuntimeLog()\n",
        "gs.run(n_iter=600, out=log)\n",
        "\n",
        "symm_energy = vstate.expect(H)\n",
        "error = abs((symm_energy.mean - eig_vals[0]) / eig_vals[0])\n",
        "print(\"Optimized energy and relative error: \", symm_energy, error)"
      ]
    },
    {
      "cell_type": "code",
      "execution_count": null,
      "id": "0e2ed895",
      "metadata": {
        "id": "0e2ed895"
      },
      "outputs": [],
      "source": [
        "plt.errorbar(\n",
        "    log.data[\"Energy\"].iters[50:],\n",
        "    log.data[\"Energy\"].Mean[50:],\n",
        "    yerr=log.data[\"Energy\"].Sigma[50:],\n",
        "    label=\"SymmModel\",\n",
        ")\n",
        "\n",
        "plt.axhline(\n",
        "    y=eig_vals[0],\n",
        "    xmin=0,\n",
        "    xmax=log.data[\"Energy\"].iters[-1],\n",
        "    linewidth=2,\n",
        "    color=\"k\",\n",
        "    label=\"Exact\",\n",
        ")\n",
        "plt.xlabel(\"Iterations\")\n",
        "plt.ylabel(\"Energy\")\n",
        "plt.legend(frameon=False)"
      ]
    },
    {
      "cell_type": "markdown",
      "id": "68f501c7",
      "metadata": {
        "id": "68f501c7"
      },
      "source": [
        "## 8. Measuring Other Properties\n",
        "\n",
        "Once the model has been optimized, we can of course measure also other observables that are not the energy. For example, we could decide to measure the value of the nearest-neighbor $X-X$ correlator.\n",
        "Notice that since correlators do not enjoy the zero-variance principle as the Hamiltonian instead does, it is important to use a larger number of samples to have a sufficiently low error bar on their measurement.\n"
      ]
    },
    {
      "cell_type": "code",
      "execution_count": null,
      "id": "6cf7a569",
      "metadata": {
        "id": "6cf7a569"
      },
      "outputs": [],
      "source": [
        "corr = sum([sigmax(hi, i) * sigmax(hi, j) for (i, j) in graph.edges()])"
      ]
    },
    {
      "cell_type": "code",
      "execution_count": null,
      "id": "10fb783e",
      "metadata": {
        "id": "10fb783e"
      },
      "outputs": [],
      "source": [
        "vstate.n_samples = 400000"
      ]
    },
    {
      "cell_type": "code",
      "execution_count": null,
      "id": "e3b3b4ab",
      "metadata": {
        "id": "e3b3b4ab"
      },
      "outputs": [],
      "source": [
        "vstate.expect(corr)"
      ]
    },
    {
      "cell_type": "markdown",
      "id": "1daae42d",
      "metadata": {
        "id": "1daae42d"
      },
      "source": [
        "And we can further compare this to the exact ED result."
      ]
    },
    {
      "cell_type": "code",
      "execution_count": null,
      "id": "c89a3597",
      "metadata": {
        "id": "c89a3597"
      },
      "outputs": [],
      "source": [
        "psi = eig_vecs[:, 0]\n",
        "exact_corr = psi @ (corr @ psi)\n",
        "print(exact_corr)"
      ]
    },
    {
      "cell_type": "code",
      "execution_count": null,
      "id": "79f5ebd2-5e85-4c44-9948-9ee54ffcafda",
      "metadata": {
        "id": "79f5ebd2-5e85-4c44-9948-9ee54ffcafda"
      },
      "outputs": [],
      "source": []
    }
  ],
  "metadata": {
    "kernelspec": {
      "display_name": "Python 3 (ipykernel)",
      "language": "python",
      "name": "python3"
    },
    "language_info": {
      "codemirror_mode": {
        "name": "ipython",
        "version": 3
      },
      "file_extension": ".py",
      "mimetype": "text/x-python",
      "name": "python",
      "nbconvert_exporter": "python",
      "pygments_lexer": "ipython3",
      "version": "3.13.2"
    },
    "colab": {
      "provenance": [],
      "include_colab_link": true
    }
  },
  "nbformat": 4,
  "nbformat_minor": 5
}