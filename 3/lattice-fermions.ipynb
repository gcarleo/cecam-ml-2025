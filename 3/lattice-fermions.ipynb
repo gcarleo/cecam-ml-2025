{
 "cells": [
  {
   "cell_type": "markdown",
   "id": "1805c599-bb29-4dc4-be58-b24d4efd6526",
   "metadata": {},
   "source": [
    "# Lattice Fermions, from Slater Determinants to Neural Backflow Transformations"
   ]
  },
  {
   "cell_type": "markdown",
   "id": "06d04f69-4b10-4ea3-a0eb-2eb3b93a7af7",
   "metadata": {},
   "source": [
    "Author: Giuseppe Carleo (Computational Quantum Science Lab - EPFL) "
   ]
  },
  {
   "cell_type": "markdown",
   "id": "2f4dd82e-dabe-4146-a3a3-e9c9915f0994",
   "metadata": {},
   "source": [
    "In this tutorial, we will introduce you to studying fermionic quantum many-body systems using NetKet. We will start by introducing fermionic operators and how to work with them in NetKet. We will then proceed to implement and optimize three different wave functions: a Slater determinant wave function, a Neural Jastrow-Slater state, and a Slater Backflow neural wave function. We will focus on a Hamiltonian of spinless fermions in two dimensions. In the following we will also assume the reader is familiar with the main concepts in second quantization, including creation and destruction operators, as well as the role of anticommutation relations. "
   ]
  },
  {
   "cell_type": "markdown",
   "id": "876a8c86-e31d-45fd-b3cb-7e4ca7ae20b0",
   "metadata": {},
   "source": [
    "## Fermionic Operators in NetKet"
   ]
  },
  {
   "cell_type": "markdown",
   "id": "e179b60d-6f21-4c79-9d7d-9eded189200e",
   "metadata": {},
   "source": [
    "Fermionic operators are fundamental to describing quantum systems with fermions (e.g., electrons). NetKet provides these operators directly via the `netket.operator.fermion` module. Let's start by setting up the necessary environment and defining our quantum system."
   ]
  },
  {
   "cell_type": "code",
   "execution_count": 1,
   "id": "d5b69c97-2cf4-49ef-a276-5ac694243901",
   "metadata": {
    "tags": []
   },
   "outputs": [],
   "source": [
    "import netket as nk\n"
   ]
  },
  {
   "cell_type": "markdown",
   "id": "df6e09af-ebd4-4a40-b7e7-30ecc7b3ed17",
   "metadata": {},
   "source": [
    "We will work with a Hamiltonian of spinless fermions on a two-dimensional lattice: \n",
    "\n",
    "$$\n",
    "\\mathcal{H} = -t \\sum_{\\langle i,j \\rangle } \\left( c^{\\dagger}_i c_j + c^{\\dagger}_j c_i \\right ) + V \\sum_{\\langle i,j \\rangle } n_i n_j \n",
    "$$"
   ]
  },
  {
   "cell_type": "markdown",
   "id": "f157b9c1-b018-4036-9899-7226db01efe7",
   "metadata": {},
   "source": [
    "Here, $\\langle i,j \\rangle $ denotes nearest-neighbors on a square lattice of $N=L\\times L$ sites, $c_i (c^{\\dagger}_i)$ are destruction (creation) fermionic operators on site $i$, whereas $n_i=c^{\\dagger}_i c_i$ are density operators. \n",
    "\n",
    "## Defining the lattice and the Hilbert space: "
   ]
  },
  {
   "cell_type": "code",
   "execution_count": 2,
   "id": "7a88642a-fcc3-452f-af4d-506b13e6dcfb",
   "metadata": {
    "tags": []
   },
   "outputs": [],
   "source": [
    "L = 4  # Side of the square\n",
    "graph = nk.graph.Square(L)\n",
    "N = graph.n_nodes"
   ]
  },
  {
   "cell_type": "markdown",
   "id": "cff3ecf2-ede7-4a28-b06c-1954d655c88b",
   "metadata": {},
   "source": [
    "The last variable contains the total number of sites on the lattice. "
   ]
  },
  {
   "cell_type": "markdown",
   "id": "a33c9f12-d335-4d8e-966e-32e3b8146fad",
   "metadata": {},
   "source": [
    "We now define also the Hilbert space associated with a system of $N_{\\mathrm{f}}$ spinless fermions: "
   ]
  },
  {
   "cell_type": "code",
   "execution_count": 4,
   "id": "0b3735ad-7d52-4664-9d6b-804dffb1818e",
   "metadata": {
    "tags": []
   },
   "outputs": [],
   "source": [
    "N_f = 5\n",
    "\n",
    "hi = nk.hilbert.SpinOrbitalFermions(N, s=None, n_fermions=N_f)"
   ]
  },
  {
   "cell_type": "markdown",
   "id": "140d98de-3d20-4c4e-8c56-90751f7321b4",
   "metadata": {},
   "source": [
    "Notice that in the definition we have specified `s=None`, meaning that these fermions do not carry spin. If you wanted to work with spinful fermions, you would need to specify for example `s=1/2`. "
   ]
  },
  {
   "cell_type": "markdown",
   "id": "087952c6-8c42-475a-af5f-ceb3d7fbf626",
   "metadata": {},
   "source": [
    "## Fermionic Operators and Hamiltonian"
   ]
  },
  {
   "cell_type": "markdown",
   "id": "ab9e7ea7-20c0-413b-8fa9-face9cff32d7",
   "metadata": {},
   "source": [
    "To describe the Hamiltonian of our quantum system, we need to work with the fermionic operators associated with the Hilbert space defined above. These operators include creation (cdag), annihilation (c), and number (nc) operators. We will use these operators to build our Hamiltonian."
   ]
  },
  {
   "cell_type": "code",
   "execution_count": 5,
   "id": "3be0c7bb-85f3-45b7-ac07-bc9fb2caca95",
   "metadata": {
    "tags": []
   },
   "outputs": [],
   "source": [
    "from netket.operator.fermion import destroy as c\n",
    "from netket.operator.fermion import create as cdag\n",
    "from netket.operator.fermion import number as nc"
   ]
  },
  {
   "cell_type": "markdown",
   "id": "b28a6286-8265-4f24-92fa-05b55dcf259f",
   "metadata": {},
   "source": [
    "With these operators, we can now construct the Hamiltonian for our system. In this example, we have a tight-binding hopping term proportional to $t$ and a density-density interaction term proportional to $V$. We can easily define the Hamiltonian by adding terms one by one looping over the edges of the lattice: \n"
   ]
  },
  {
   "cell_type": "code",
   "execution_count": 6,
   "id": "a88229ce-460e-4d58-a355-60d174c8ca4f",
   "metadata": {
    "tags": []
   },
   "outputs": [],
   "source": [
    "t = 1.0\n",
    "V = 4.0\n",
    "\n",
    "H = 0.0\n",
    "for (i, j) in graph.edges():\n",
    "    H -= t * (cdag(hi,i) * c(hi,j) + cdag(hi,j) * c(hi,i))\n",
    "    H += V * nc(hi,i) * nc(hi,j)"
   ]
  },
  {
   "cell_type": "markdown",
   "id": "3c010018-6d22-4424-aa8c-7a5886b79312",
   "metadata": {},
   "source": [
    "## Exact Diagonalization \n",
    "\n",
    "Since the system is relatively small, the Hilbert space is also not too big, and we can still use exact diagonalization to compute the ground state energy. This is achieved by first converting the Hamiltonian to a sparse matrix, and then diagonalizing it with scipy: "
   ]
  },
  {
   "cell_type": "code",
   "execution_count": 7,
   "id": "68131322-d81b-4835-95b9-d83c60d5dac7",
   "metadata": {
    "tags": []
   },
   "outputs": [],
   "source": [
    "# Convert the Hamiltonian to a sparse matrix\n",
    "sp_h = H.to_sparse()"
   ]
  },
  {
   "cell_type": "code",
   "execution_count": 8,
   "id": "592dee7c-9d5d-434c-93e8-20ad014fe92d",
   "metadata": {
    "tags": []
   },
   "outputs": [
    {
     "name": "stdout",
     "output_type": "stream",
     "text": [
      "Exact ground state energy: -6.85901355431958\n"
     ]
    }
   ],
   "source": [
    "from scipy.sparse.linalg import eigsh\n",
    "\n",
    "eig_vals, eig_vecs = eigsh(sp_h, k=2, which=\"SA\")\n",
    "\n",
    "E_gs = eig_vals[0]\n",
    "\n",
    "print(\"Exact ground state energy:\", E_gs)"
   ]
  },
  {
   "cell_type": "markdown",
   "id": "71d6a17e-2252-4ad6-953c-164fb0b8cb20",
   "metadata": {},
   "source": [
    "## Slater Determinant\n",
    "\n",
    "Now, let's move on to defining and optimizing a simple variational wave function based on a mean-field state: the Slater determinant. \n",
    "\n",
    "Formally, we can write the state as filling up $N_{\\mathrm{f}}$ orbitals: \n",
    "\n",
    "$$\n",
    "|\\Phi_s\\rangle = \\Pi_{\\alpha=1}^{N_{\\mathrm{f}}} \\phi^{\\dagger}_{\\alpha} |0\\rangle,\n",
    "$$\n",
    "\n",
    "where $0\\rangle$ is the vacuum state and the single-particle orbitals are created by the operators $\\phi^{\\dagger}_{\\alpha}$. In turn, these creation operators are, in general, a linear combination of the original creation operators:\n",
    "\n",
    "$$\n",
    "\\phi^{\\dagger}_{\\alpha} = \\sum_i M_{\\alpha, i} c^{\\dagger}_i.\n",
    "$$\n",
    "\n",
    "The rectangular ($N\\times N_{\\mathrm{f}}$) matrix $M$ constitutes a set of free variational parameters (Where $N$ is the number of orbitals and $N_{\\mathrm{f}}$ the number of fermions). \n",
    "\n",
    "It can be shown that the amplitudes of the wave function in the computational basis $|n_1,\\dots,n_N\\rangle$ are determinants:\n",
    "\n",
    "$$\n",
    "\\langle n_1,\\dots,n_N |\\Phi_s\\rangle = \\mathrm{det}\\left\\{A(\\bf{n})\\right\\},\n",
    "$$\n",
    "\n",
    "where the $N_{\\mathrm{f}}\\times N_{\\mathrm{f}}$ matrix is\n",
    "\n",
    "$$\n",
    "A(n)_{\\alpha,\\beta} = M_{R_{\\alpha}(\\bf{n}), \\beta},\n",
    "$$\n",
    "\n",
    "where $R_{\\alpha}(\\bf{n})$ denotes the index of the $\\alpha$-th occupied site (non-zero $n_i$) in $\\bf{n}=(n_1,\\dots,n_N)$. \n",
    "This can also be interepted as selecting $N_\\mathrm{f}$ rows of the matrix $M$ in corresponding to the $N_\\mathrm{f}$ occupied orbitals.\n",
    "For more details see Chapter 5 of Reference [1]. \n"
   ]
  },
  {
   "cell_type": "markdown",
   "id": "58d7d9b6-d9f9-4c14-ad87-a329f0ecde9c",
   "metadata": {},
   "source": [
    "To write down this variational amplitudes, we start by defining a convenience function to compute the logarithm of the determinant of a matrix, in the complex domain, and using jax:"
   ]
  },
  {
   "cell_type": "code",
   "execution_count": 9,
   "id": "0fa75214-d754-4fe9-a49b-f9f6544853ce",
   "metadata": {
    "tags": []
   },
   "outputs": [],
   "source": [
    "import jax\n",
    "import jax.numpy as jnp\n",
    "\n",
    "# Note: This function can also be found inside of netket, in `nk.jax.logdet_cmplx`, but we implement it here\n",
    "# for pedagogical purposes.\n",
    "def _logdet_cmplx(A):\n",
    "    sign, logabsdet = jnp.linalg.slogdet(A)\n",
    "    return logabsdet.astype(complex) + jnp.log(sign.astype(complex))"
   ]
  },
  {
   "cell_type": "markdown",
   "id": "09ace357-4b63-4cf7-8268-23484a4600e5",
   "metadata": {},
   "source": [
    "Next, we define a wave function using Flax. As you might have seen also in other Tutorials, NetKet defines the logarithm of the wave function amplitudes, mostly to avoid overflow/underflow when computing relevant quantities. The model wave function is then: "
   ]
  },
  {
   "cell_type": "code",
   "execution_count": 10,
   "id": "8457a6c8-36da-4ce9-817b-a43e43ffc0e2",
   "metadata": {
    "tags": []
   },
   "outputs": [],
   "source": [
    "from flax import nnx\n",
    "from netket.utils.types import NNInitFunc\n",
    "from netket.nn.masked_linear import default_kernel_init\n",
    "from typing import Any, Callable, Sequence\n",
    "from functools import partial\n",
    "DType = Any\n",
    "\n",
    "class LogSlaterDeterminant(nnx.Module):\n",
    "    hilbert: nk.hilbert.SpinOrbitalFermions\n",
    "\n",
    "    def __init__(self, hilbert, kernel_init=default_kernel_init, param_dtype=float, *, rngs: nnx.Rngs):\n",
    "        self.hilbert = hilbert\n",
    "\n",
    "        # To generate random numbers we need to extract the key from the `rngs` object.\n",
    "        key = rngs.params()\n",
    "\n",
    "        # the N x Nf matrix of the orbitals\n",
    "        self.M = nnx.Param(kernel_init(key, (self.hilbert.n_orbitals, self.hilbert.n_fermions,), param_dtype))\n",
    "\n",
    "    def __call__(self, n: jax.Array) -> jax.Array:\n",
    "        # For simplicity, we write a function that operates on a single configuration of size (N,)\n",
    "        # and we vectorize it using `jnp.vectorize` with the signature='(n)->()' argument, which specifies\n",
    "        # that the function is defined to operate on arrays of shape (n,) and return scalars.\n",
    "        @partial(jnp.vectorize, signature='(n)->()')\n",
    "        def log_sd(n):\n",
    "            #Find the positions of the occupied orbitals \n",
    "            R = n.nonzero(size=self.hilbert.n_fermions)[0]\n",
    "            \n",
    "            # Extract from the (N, Nf) matrix the (Nf, Nf) submatrix of M corresponding to the occupied orbitals.\n",
    "            A = self.M[R]\n",
    "\n",
    "            return _logdet_cmplx(A)\n",
    "\n",
    "        return log_sd(n)"
   ]
  },
  {
   "cell_type": "markdown",
   "id": "7c64f92f-f773-44d5-8687-458df911471f",
   "metadata": {},
   "source": [
    "This Flax module defines the variational parameters to be the rectangular matrix $M$. In general, these parameters can be real or complex valued. In the following we will work with real parameters, for simplicity. "
   ]
  },
  {
   "cell_type": "markdown",
   "id": "9ea0f64e-2edc-4d14-94a9-529672d2a7ad",
   "metadata": {},
   "source": [
    "## Optimizing the Slater Determinant Wave Function"
   ]
  },
  {
   "cell_type": "markdown",
   "id": "152dfafb-d5e8-49d6-a1b8-4efab32406e7",
   "metadata": {},
   "source": [
    "We now create an instance of the `LogSlaterDeterminant` class and of a suitable Monte Carlo Sampler to obtain expected values using Variational Monte Carlo:"
   ]
  },
  {
   "cell_type": "code",
   "execution_count": 11,
   "id": "73cda74d-e4c7-44ff-bf0a-cce57c939cb3",
   "metadata": {
    "tags": []
   },
   "outputs": [],
   "source": [
    "# Create the Slater determinant model, using the seed 0\n",
    "model = LogSlaterDeterminant(hi, rngs=nnx.Rngs(0))\n",
    "\n",
    "# Define the Metropolis-Hastings sampler\n",
    "sa = nk.sampler.MetropolisFermionHop(hi, graph=graph)\n"
   ]
  },
  {
   "cell_type": "markdown",
   "id": "1036b67a-3903-409b-a06f-62cce32e29e6",
   "metadata": {},
   "source": [
    "Here we use a sampler that exchanges the occupation numbers of two sites. This allows to keep the total number of fermions constant. "
   ]
  },
  {
   "cell_type": "markdown",
   "id": "15652348-90f0-4eb6-8847-73980c3e4c85",
   "metadata": {},
   "source": [
    "We also define the `VariationalState` necessary to compute expected values over the variational state using Monte Carlo sampling. We will use a total of 16 independent Markov Chains and $2^{12}$ samples per chain. We will also discard the first 16 samples of each chain, to allow thermalization: "
   ]
  },
  {
   "cell_type": "code",
   "execution_count": 12,
   "id": "52c43700-d123-4a9f-bb59-b58a19b0db79",
   "metadata": {
    "tags": []
   },
   "outputs": [],
   "source": [
    "vstate = nk.vqs.MCState(sa, model, n_samples=2**12, n_discard_per_chain=16)"
   ]
  },
  {
   "cell_type": "markdown",
   "id": "c744aab5-e09d-45a1-bf7b-c150df700c21",
   "metadata": {},
   "source": [
    "For example, we can generate samples distributed according to the square modulus of our variational state, and check its shape:"
   ]
  },
  {
   "cell_type": "code",
   "execution_count": 13,
   "id": "62904844-8216-4106-837e-c40f8edfb34a",
   "metadata": {
    "tags": []
   },
   "outputs": [
    {
     "data": {
      "text/plain": [
       "(16, 256, 16)"
      ]
     },
     "execution_count": 13,
     "metadata": {},
     "output_type": "execute_result"
    }
   ],
   "source": [
    "vstate.samples.shape"
   ]
  },
  {
   "cell_type": "markdown",
   "id": "79ca215f-813f-4535-a269-ac44da5b2d86",
   "metadata": {},
   "source": [
    "You see here that the first index corresponds to the number of chain, the second to the samples on each chain, and the last one is the index of the occupation number, for example one configuration sampled looks like:"
   ]
  },
  {
   "cell_type": "code",
   "execution_count": 14,
   "id": "2cf29943-0244-47cc-8ac3-9f78096431c1",
   "metadata": {
    "tags": []
   },
   "outputs": [
    {
     "data": {
      "text/plain": [
       "Array([0, 0, 0, 0, 1, 1, 0, 0, 1, 0, 0, 0, 0, 1, 1, 0], dtype=int8)"
      ]
     },
     "execution_count": 14,
     "metadata": {},
     "output_type": "execute_result"
    }
   ],
   "source": [
    "vstate.samples[0,0]"
   ]
  },
  {
   "cell_type": "markdown",
   "id": "cbf552ad-c184-4480-a0ef-a9194f5201b2",
   "metadata": {},
   "source": [
    "As you can see, everything is compatible with what you specified in the Hilbert space, namely there are exactly $N_{\\mathrm{f}}=5$ non-zero occupation numbers."
   ]
  },
  {
   "cell_type": "markdown",
   "id": "91bdeeab-cdce-44c4-8f2d-d3fdb1a15550",
   "metadata": {},
   "source": [
    "Then, we can proceed and optimize for the ground state wave function, defining a suitable optimizer and, in this case, also a preconditioner based on the Quantum Natural Gradient (or Stochastic Reconfiguration):"
   ]
  },
  {
   "cell_type": "code",
   "execution_count": 15,
   "id": "5881547b-2ae4-47c9-b7f2-4c481c9f8370",
   "metadata": {
    "tags": []
   },
   "outputs": [],
   "source": [
    "# Define the optimizer\n",
    "op = nk.optimizer.Sgd(learning_rate=0.05)\n",
    "\n",
    "# Define a preconditioner\n",
    "preconditioner = nk.optimizer.SR(diag_shift=0.05)\n",
    "\n",
    "# Create the VMC (Variational Monte Carlo) driver\n",
    "gs = nk.VMC(H, op, variational_state=vstate, preconditioner=preconditioner)\n"
   ]
  },
  {
   "cell_type": "markdown",
   "id": "58855e89-ef5c-4fb5-beb6-c4999cc4dced",
   "metadata": {},
   "source": [
    "A more detailed explanation of `SR` and the regularization parameter (`diag_shift`) can be found in the Documentation."
   ]
  },
  {
   "cell_type": "markdown",
   "id": "a6e1dd08-99d6-4e9e-a9cd-b521e49dc76c",
   "metadata": {},
   "source": [
    "We can now finally optimize the wave function for 300 steps of VMC: "
   ]
  },
  {
   "cell_type": "code",
   "execution_count": 16,
   "id": "3cd80857-ea67-4c27-8728-36838578c712",
   "metadata": {
    "tags": []
   },
   "outputs": [
    {
     "data": {
      "application/vnd.jupyter.widget-view+json": {
       "model_id": "5e40a9d92e0b43b9b1f43ebef5401bf2",
       "version_major": 2,
       "version_minor": 0
      },
      "text/plain": [
       "  0%|                                                                                                         …"
      ]
     },
     "metadata": {},
     "output_type": "display_data"
    },
    {
     "data": {
      "text/plain": [
       "(RuntimeLog():\n",
       "  keys = ['acceptance', 'Energy'],)"
      ]
     },
     "execution_count": 16,
     "metadata": {},
     "output_type": "execute_result"
    }
   ],
   "source": [
    "# Construct the logger to visualize the data later on\n",
    "slater_log=nk.logging.RuntimeLog()\n",
    "\n",
    "# Run the optimization for 300 iterations\n",
    "gs.run(n_iter=300, out=slater_log)"
   ]
  },
  {
   "cell_type": "markdown",
   "id": "02387eca-c8e8-476f-8976-da00d5b14e0e",
   "metadata": {},
   "source": [
    "After optimizating the wave function, we can evaluate the energy on the final set of paramaters and compare to the exact value:"
   ]
  },
  {
   "cell_type": "code",
   "execution_count": 17,
   "id": "10ffa5b1-06ed-4301-9588-fed354e2014b",
   "metadata": {
    "tags": []
   },
   "outputs": [
    {
     "name": "stdout",
     "output_type": "stream",
     "text": [
      "Optimized energy : -5.090+0.000j ± 0.037 [σ²=4.761, R̂=1.0016]\n",
      "Relative error   : 0.25788645035033886\n"
     ]
    }
   ],
   "source": [
    "sd_energy = vstate.expect(H)\n",
    "error = abs((sd_energy.mean - E_gs) / E_gs)\n",
    "\n",
    "print(f\"Optimized energy : {sd_energy}\")\n",
    "print(f\"Relative error   : {error}\")"
   ]
  },
  {
   "cell_type": "markdown",
   "id": "a7ffbf16-aff7-4753-a1a7-168433e5a60a",
   "metadata": {},
   "source": [
    "As you can see, the mean field energy of the Slater Determinant is about 25% off in this case where interactions are strong, thus far from the single-particle regime in which the Slater Determinant is accurate."
   ]
  },
  {
   "cell_type": "markdown",
   "id": "f2560270-d82d-425b-bb03-6c27cb219167",
   "metadata": {},
   "source": [
    "## Neural Jastrow-Slater Wave Function\n",
    "\n",
    "To improve on the simple mean field wave function considered above, we can construct a variational state that is the product of a Slater determinant times a many-body neural Jastrow factor :\n",
    "\n",
    "$$\n",
    "\\langle n_1,\\dots,n_N |\\Phi_s\\rangle \\times \\exp(J(\\bf{n})),\n",
    "$$\n",
    "\n",
    "where $J(\\bf{n})$ is parameterized via a suitable neural network taking as inputs the occupation numbers $\\bf{n}=(n_1,\\dots,n_N)$ and returning a scalar. See also References [2] and [3], for example choices of the neural network part. \n",
    "\n",
    "In the following, we will parameterize the neural Jastrow with a simple two-layer feedforward network consisting of real parameters only. This means that the neural Jastrow will not be able to change the overall sign of the wave function, but it will nonetheless be able to capture strong correlations by modifying the absolute value of the wave function amplitudes. \n",
    "\n",
    "We define the corresponding variational wave function in the following Flax class:"
   ]
  },
  {
   "cell_type": "code",
   "execution_count": 18,
   "id": "d912d6f1-c07e-4964-ac85-9c41f35b6e63",
   "metadata": {
    "tags": []
   },
   "outputs": [],
   "source": [
    "from flax import nnx\n",
    "from netket.utils.types import NNInitFunc\n",
    "from netket.nn.masked_linear import default_kernel_init\n",
    "from typing import Any, Callable, Sequence\n",
    "from functools import partial\n",
    "DType = Any\n",
    "\n",
    "class LogNeuralJastrowSlater(nnx.Module):\n",
    "    hilbert: nk.hilbert.SpinOrbitalFermions\n",
    "\n",
    "    def __init__(self, hilbert, jastrow_hidden_units: int, kernel_init=default_kernel_init, param_dtype=float, *, rngs: nnx.Rngs):\n",
    "        self.hilbert = hilbert\n",
    "\n",
    "        # To generate random numbers we need to extract the key from the `rngs` object.\n",
    "        key = rngs.params()\n",
    "\n",
    "        # the N x Nf matrix of the orbitals\n",
    "        self.M = nnx.Param(kernel_init(key, (self.hilbert.n_orbitals, self.hilbert.n_fermions,), param_dtype))\n",
    "\n",
    "        # The Neural Jastrow wf\n",
    "        self.jastrow_linear = nnx.Linear(in_features=hilbert.n_orbitals, out_features=jastrow_hidden_units, param_dtype=param_dtype, rngs=rngs)\n",
    "\n",
    "    def __call__(self, n: jax.Array) -> jax.Array:\n",
    "        # For simplicity, we write a function that operates on a single configuration of size (N,)\n",
    "        # and we vectorize it using `jnp.vectorize` with the signature='(n)->()' argument, which specifies\n",
    "        # that the function is defined to operate on arrays of shape (n,) and return scalars.\n",
    "        @partial(jnp.vectorize, signature='(n)->()')\n",
    "        def log_sd(n):\n",
    "            #Construct the Neural Jastrow\n",
    "            J = self.jastrow_linear(n)\n",
    "            J = jax.nn.tanh(J)\n",
    "            J = J.sum()\n",
    "\n",
    "            # Construct the slater determinant \n",
    "            R = n.nonzero(size=self.hilbert.n_fermions)[0]\n",
    "            # Extract from the (N, Nf) matrix the (Nf, Nf) submatrix of M corresponding to the occupied orbitals.\n",
    "            A = self.M[R]\n",
    "            log_slater = _logdet_cmplx(A)\n",
    "\n",
    "            # Multiply log slater with the jastrow (and since we are working in log space, this becomes a sum)\n",
    "            return log_slater + J\n",
    "\n",
    "        return log_sd(n)"
   ]
  },
  {
   "cell_type": "markdown",
   "id": "946444ff-a310-4416-a333-e17412a8537e",
   "metadata": {},
   "source": [
    "We then optimize this variational state, as done before. "
   ]
  },
  {
   "cell_type": "code",
   "execution_count": 20,
   "id": "660eee6c-8830-48a9-84d7-89b5a16908a2",
   "metadata": {
    "tags": []
   },
   "outputs": [
    {
     "data": {
      "application/vnd.jupyter.widget-view+json": {
       "model_id": "d857338f032f4fcf9af3dbcbe09b3c34",
       "version_major": 2,
       "version_minor": 0
      },
      "text/plain": [
       "  0%|                                                                                                         …"
      ]
     },
     "metadata": {},
     "output_type": "display_data"
    },
    {
     "data": {
      "text/plain": [
       "(RuntimeLog():\n",
       "  keys = ['acceptance', 'Energy'],)"
      ]
     },
     "execution_count": 20,
     "metadata": {},
     "output_type": "execute_result"
    }
   ],
   "source": [
    "# Create a Neural Jastrow Slater wave function \n",
    "model = LogNeuralJastrowSlater(hi, jastrow_hidden_units=N, rngs=nnx.Rngs(2))\n",
    "\n",
    "# Define a Metropolis exchange sampler\n",
    "sa = nk.sampler.MetropolisFermionHop(hi, graph=graph)\n",
    "\n",
    "# Define an optimizer\n",
    "op = nk.optimizer.Sgd(learning_rate=0.05)\n",
    "\n",
    "# Create a variational state\n",
    "vstate = nk.vqs.MCState(sa, model, n_samples=2**12, n_discard_per_chain=16)\n",
    "\n",
    "# Create a Variational Monte Carlo driver\n",
    "preconditioner = nk.optimizer.SR(diag_shift=0.05)\n",
    "gs = nk.VMC(H, op, variational_state=vstate, preconditioner=preconditioner)\n",
    "\n",
    "# Construct the logger to visualize the data later on\n",
    "nj_log=nk.logging.RuntimeLog()\n",
    "\n",
    "# Run the optimization for 300 iterations\n",
    "gs.run(n_iter=300, out=nj_log)"
   ]
  },
  {
   "cell_type": "markdown",
   "id": "96fd4c14-86ab-44ca-9a58-deef259b09c0",
   "metadata": {},
   "source": [
    "As you can see, this significantly improves over the mean field wave function. If we compute the error on the ground state energy we get:"
   ]
  },
  {
   "cell_type": "code",
   "execution_count": 22,
   "id": "735a5e95-2d4d-46ab-9844-7607d2320e79",
   "metadata": {
    "tags": []
   },
   "outputs": [
    {
     "name": "stdout",
     "output_type": "stream",
     "text": [
      "Optimized energy : -6.8232-0.0000j ± 0.0090 [σ²=0.3857, R̂=1.0006]\n",
      "Relative error   : 0.005221802474763219\n"
     ]
    }
   ],
   "source": [
    "sd_energy = vstate.expect(H)\n",
    "error = abs((sd_energy.mean - E_gs) / E_gs)\n",
    "\n",
    "print(f\"Optimized energy : {sd_energy}\")\n",
    "print(f\"Relative error   : {error}\")"
   ]
  },
  {
   "cell_type": "markdown",
   "id": "701762d2-3cf3-4070-bec1-90ba24bd4274",
   "metadata": {},
   "source": [
    "## Neural-Backflow Wave Function\n",
    "\n",
    "An alternative approach to go beyond the simple mean field approximation, and also effectively change the nodal structure of the wave functions is given by the Neural Backflow transformation of Reference [4].  \n",
    "The idea is to promote the matrix $M$ appearing in the Slater determinant to be a function of all the occupation numbers, through a neural network. Specifically, we take an additive form of the backflow transformation:\n",
    "\n",
    "$$\n",
    "M^{\\mathrm{bf}}_{\\alpha,i}(\\bf{n}) = M_{\\alpha, i} + F_{\\alpha,i}(\\bf{n})\n",
    "$$\n",
    "\n",
    "and parameterize $F$ with a multilayer perceptron taking $N$ inputs and having an output of $N\\times N_{\\mathrm{f}}$ numbers. "
   ]
  },
  {
   "cell_type": "code",
   "execution_count": 23,
   "id": "4bd721a6",
   "metadata": {},
   "outputs": [],
   "source": [
    "class LogNeuralBackflow(nnx.Module):\n",
    "    hilbert: nk.hilbert.SpinOrbitalFermions\n",
    "\n",
    "    def __init__(self, hilbert, hidden_units: int, kernel_init=default_kernel_init, param_dtype=float, *, rngs: nnx.Rngs):\n",
    "        self.hilbert = hilbert\n",
    "\n",
    "        # To generate random numbers we need to extract the key from the `rngs` object.\n",
    "        key = rngs.params()\n",
    "\n",
    "        # the N x Nf matrix of the orbitals\n",
    "        self.M = nnx.Param(kernel_init(key, (self.hilbert.n_orbitals, self.hilbert.n_fermions,), param_dtype))\n",
    "\n",
    "        # Construct the Backflow. Takes as input strings of $N$ occupation numbers, outputs an $N x Nf$ matrix\n",
    "        # that modifies the bare orbitals.\n",
    "        self.backflow = nnx.Sequential(\n",
    "            # First layer, input (..., N,) output (..., hidden_units)\n",
    "            nnx.Linear(in_features=hilbert.size, out_features=hidden_units, param_dtype=param_dtype, rngs=rngs),\n",
    "            nnx.tanh,\n",
    "            # Last layer, input (..., hidden_units,) output (..., N x Nf)\n",
    "            nnx.Linear(in_features=hidden_units, out_features=hilbert.n_orbitals*hilbert.n_fermions, param_dtype=param_dtype, rngs=rngs),\n",
    "            # Reshape into the orbital shape, (..., N, Nf)\n",
    "            lambda x: x.reshape(x.shape[:-1] + (hilbert.n_orbitals, hilbert.n_fermions))\n",
    "        )\n",
    "\n",
    "    def __call__(self, n: jax.Array) -> jax.Array:\n",
    "        # For simplicity, we write a function that operates on a single configuration of size (N,)\n",
    "        # and we vectorize it using `jnp.vectorize` with the signature='(n)->()' argument, which specifies\n",
    "        # that the function is defined to operate on arrays of shape (n,) and return scalars.\n",
    "        @partial(jnp.vectorize, signature='(n)->()')\n",
    "        def log_sd(n):\n",
    "            # Construct the Backflow. Takes as input strings of $N$ occupation numbers, outputs an $N x Nf$ matrix\n",
    "            # that modifies the bare orbitals.\n",
    "            F = self.backflow(n)\n",
    "            # Add the backflow correction to the bare orbitals\n",
    "            M = self.M + F\n",
    "            \n",
    "            # Find the positions of the occupied, backflow-modified orbitals\n",
    "            R = n.nonzero(size=self.hilbert.n_fermions)[0]\n",
    "            A = M[R]\n",
    "            return _logdet_cmplx(A)\n",
    "\n",
    "        return log_sd(n)"
   ]
  },
  {
   "cell_type": "markdown",
   "id": "5b7ecd79-dbb5-46ec-8a7e-1c45f838000b",
   "metadata": {},
   "source": [
    "We can then proceed as above to optimize this variational state using VMC."
   ]
  },
  {
   "cell_type": "code",
   "execution_count": 24,
   "id": "390637bf-2eda-4d2a-bc46-a210ed5b7a90",
   "metadata": {
    "tags": []
   },
   "outputs": [
    {
     "data": {
      "application/vnd.jupyter.widget-view+json": {
       "model_id": "fb57b621e47f45d497b129c3f59b79b4",
       "version_major": 2,
       "version_minor": 0
      },
      "text/plain": [
       "  0%|                                                                                                         …"
      ]
     },
     "metadata": {},
     "output_type": "display_data"
    },
    {
     "data": {
      "text/plain": [
       "(RuntimeLog():\n",
       "  keys = ['acceptance', 'Energy'],)"
      ]
     },
     "execution_count": 24,
     "metadata": {},
     "output_type": "execute_result"
    }
   ],
   "source": [
    "# Create a neural backflow wave function\n",
    "model = LogNeuralBackflow(hi, hidden_units=N, rngs=nnx.Rngs(3))\n",
    "\n",
    "# Define a Metropolis exchange sampler\n",
    "sa = nk.sampler.MetropolisFermionHop(hi, graph=graph)\n",
    "\n",
    "# Define an optimizer\n",
    "op = nk.optimizer.Sgd(learning_rate=0.05)\n",
    "\n",
    "# Create a variational state\n",
    "vstate = nk.vqs.MCState(sa, model, n_samples=2**12, n_discard_per_chain=16)\n",
    "\n",
    "# Create a Variational Monte Carlo driver\n",
    "preconditioner = nk.optimizer.SR(diag_shift=0.05)\n",
    "gs = nk.VMC(H, op, variational_state=vstate, preconditioner=preconditioner)\n",
    "\n",
    "# Construct the logger to visualize the data later on\n",
    "bf_log=nk.logging.RuntimeLog()\n",
    "\n",
    "# Run the optimization for 300 iterations\n",
    "gs.run(n_iter=300, out=bf_log)"
   ]
  },
  {
   "cell_type": "markdown",
   "id": "2cae5aca-8d47-4748-96b8-71d7dd376019",
   "metadata": {},
   "source": [
    "We can further check how good the optimized energy is:"
   ]
  },
  {
   "cell_type": "code",
   "execution_count": 25,
   "id": "1155dc2b-4d5b-41ca-80dc-a25b9a49cc2a",
   "metadata": {
    "tags": []
   },
   "outputs": [
    {
     "name": "stdout",
     "output_type": "stream",
     "text": [
      "Optimized energy : -6.8244+0.0000j ± 0.0096 [σ²=0.4000, R̂=1.0016]\n",
      "Relative error   : 0.0050414163884298265\n"
     ]
    }
   ],
   "source": [
    "sd_energy = vstate.expect(H)\n",
    "error = abs((sd_energy.mean - E_gs) / E_gs)\n",
    "\n",
    "print(f\"Optimized energy : {sd_energy}\")\n",
    "print(f\"Relative error   : {error}\")"
   ]
  },
  {
   "cell_type": "markdown",
   "id": "9b8dd5a7-5546-4ec0-9cb1-01acee8e0abc",
   "metadata": {},
   "source": [
    "Thus, as expected, the Neural Backflow achieves a significantly higher level of precision (~0.5%) versus the ~25% error of the mean field state. Notice that in this case the precision achieved is similar to the simpler Neural Jastrow-Slater wave function. However, the backflow result can be further improved by playing with the feedforward architecture defining the backflow, for example by increasing 'hidden_units' or by improving the optimization increasing the number of samples and/or the number of steps. "
   ]
  },
  {
   "cell_type": "markdown",
   "id": "92dfc06c-e7af-4056-9451-c31574b497ff",
   "metadata": {},
   "source": [
    "## Plotting all together\n",
    "\n",
    "Finally, we can visualize the results obtained with the three wave functions we have covered in this Tutorial, by using the data logged during the optimization. In order to visualize what happened during the optimization, we can use the data that has been stored by the logger. There are several available loggers in NetKet, in the previous runs we have just used a simple one that stores the intermediate results as values in a dictionary."
   ]
  },
  {
   "cell_type": "code",
   "execution_count": 26,
   "id": "9fc7b627-ab04-466a-b158-75cebf5efbfb",
   "metadata": {
    "tags": []
   },
   "outputs": [
    {
     "name": "stdout",
     "output_type": "stream",
     "text": [
      "HistoryDict with 2 elements:\n",
      "\t'Energy' -> History(keys=['Mean', 'Variance', 'Sigma', 'R_hat', 'TauCorr'], n_iters=300)\n",
      "\t'acceptance' -> History(keys=['value'], n_iters=300)\n"
     ]
    }
   ],
   "source": [
    "data_slater = slater_log.data\n",
    "print(data_slater)"
   ]
  },
  {
   "cell_type": "markdown",
   "id": "2413cd15-58a0-42b6-9a5e-7b39773fbd52",
   "metadata": {},
   "source": [
    "These report several intermediate quantities, that can be easily plotted. For example we can plot the value of the energy (with its error bar) at each optimization step."
   ]
  },
  {
   "cell_type": "code",
   "execution_count": 27,
   "id": "2b9f6192-6d26-464c-ba6b-6a38dc523c52",
   "metadata": {
    "tags": []
   },
   "outputs": [
    {
     "data": {
      "text/plain": [
       "<matplotlib.legend.Legend at 0x31b11a7b0>"
      ]
     },
     "execution_count": 27,
     "metadata": {},
     "output_type": "execute_result"
    },
    {
     "data": {
      "image/png": "[encoded data removed]",
      "text/plain": [
       "<Figure size 640x480 with 1 Axes>"
      ]
     },
     "metadata": {},
     "output_type": "display_data"
    }
   ],
   "source": [
    "logged_data = (slater_log.data,nj_log.data,bf_log.data)\n",
    "labels = (\"Slater\",\"Neural Jastrow\",\"Neural Backflow\")\n",
    "\n",
    "from matplotlib import pyplot as plt\n",
    "\n",
    "for data,label in zip(logged_data,labels):\n",
    "    plt.errorbar(data[\"Energy\"].iters, data[\"Energy\"].Mean.real, yerr=data[\"Energy\"].Sigma,label=label)\n",
    "\n",
    "plt.hlines([E_gs], xmin=0, xmax=300, color='black', label=\"Exact\")\n",
    "\n",
    "plt.xlabel('Iterations')\n",
    "plt.ylabel('Energy')\n",
    "plt.legend()"
   ]
  },
  {
   "cell_type": "markdown",
   "id": "16c1b832-91f7-4dee-8701-fc9a9eef220c",
   "metadata": {},
   "source": [
    "# References\n",
    "\n",
    "[1] Becca, F. & Sorella, S. Quantum Monte Carlo Approaches for Correlated Systems. (Cambridge University Press, 2017).\n",
    "\n",
    "[2] Nomura, Y., Darmawan, A. S., Yamaji, Y. & Imada, M. Restricted Boltzmann machine learning for solving strongly correlated quantum systems. Phys. Rev. B 96, 205152 (2017).\n",
    "\n",
    "[3] Stokes, J., Moreno, J. R., Pnevmatikakis, E. A. & Carleo, G. Phases of two-dimensional spinless lattice fermions with first-quantized deep neural-network quantum states. Phys. Rev. B 102, 205122 (2020).\n",
    "\n",
    "[4] Luo, D. & Clark, B. K. Backflow Transformations via Neural Networks for Quantum Many-Body Wave Functions. Phys. Rev. Lett. 122, 226401 (2019).\n",
    "\n"
   ]
  }
 ],
 "metadata": {
  "kernelspec": {
   "display_name": "Python 3 (ipykernel)",
   "language": "python",
   "name": "python3"
  },
  "language_info": {
   "codemirror_mode": {
    "name": "ipython",
    "version": 3
   },
   "file_extension": ".py",
   "mimetype": "text/x-python",
   "name": "python",
   "nbconvert_exporter": "python",
   "pygments_lexer": "ipython3",
   "version": "3.13.2"
  }
 },
 "nbformat": 4,
 "nbformat_minor": 5
}
